{
  "nbformat": 4,
  "nbformat_minor": 0,
  "metadata": {
    "colab": {
      "name": "Untitled2.ipynb",
      "version": "0.3.2",
      "provenance": [],
      "collapsed_sections": [],
      "toc_visible": true,
      "include_colab_link": true
    },
    "kernelspec": {
      "name": "python3",
      "display_name": "Python 3"
    },
    "accelerator": "GPU"
  },
  "cells": [
    {
      "cell_type": "markdown",
      "metadata": {
        "id": "view-in-github",
        "colab_type": "text"
      },
      "source": [
        "<a href=\"https://colab.research.google.com/github/Eingau/Ask2/blob/master/Untitled2.ipynb\" target=\"_parent\"><img src=\"https://colab.research.google.com/assets/colab-badge.svg\" alt=\"Open In Colab\"/></a>"
      ]
    },
    {
      "metadata": {
        "id": "h9gjC1QnChug",
        "colab_type": "text"
      },
      "cell_type": "markdown",
      "source": [
        "# Α.  Στοιχεία Ομάδας\n",
        "\n",
        "## Ομάδα Β31\n",
        "\n",
        "### Παπαπάνος Χρήστος      Αρ. Μ.: 03114045\n",
        "### Πιπίνης Κωνσταντίνος   Αρ. Μ.: 03114890"
      ]
    },
    {
      "metadata": {
        "id": "JaRhur4XE9MV",
        "colab_type": "code",
        "colab": {
          "base_uri": "https://localhost:8080/",
          "height": 608
        },
        "outputId": "66d22603-9198-4dea-8c2a-0028d4810f19"
      },
      "cell_type": "code",
      "source": [
        "import tensorflow as tf\n",
        "from tensorflow.python.saved_model import tag_constants\n",
        "\n",
        "saver = tf.train.Saver()\n",
        "sess = tf.Session()\n",
        "sess.run()\n",
        "saver.save(sess, 'my-model')\n",
        "\n",
        "\n",
        "# Launch the graph and train, saving the model every 1,000 steps.\n",
        "\n",
        "# for step in xrange(1000000):\n",
        "#     sess.run(..training_op..)\n",
        "#     if step % 1000 == 0:\n",
        "#         # Append the step number to the checkpoint name:\n",
        "#         saver.save(sess, 'my-model', global_step=step)\n"
      ],
      "execution_count": 48,
      "outputs": [
        {
          "output_type": "error",
          "ename": "ValueError",
          "evalue": "ignored",
          "traceback": [
            "\u001b[0;31m---------------------------------------------------------------------------\u001b[0m",
            "\u001b[0;31mValueError\u001b[0m                                Traceback (most recent call last)",
            "\u001b[0;32m<ipython-input-48-a51f683ab098>\u001b[0m in \u001b[0;36m<module>\u001b[0;34m()\u001b[0m\n\u001b[1;32m      2\u001b[0m \u001b[0;32mfrom\u001b[0m \u001b[0mtensorflow\u001b[0m\u001b[0;34m.\u001b[0m\u001b[0mpython\u001b[0m\u001b[0;34m.\u001b[0m\u001b[0msaved_model\u001b[0m \u001b[0;32mimport\u001b[0m \u001b[0mtag_constants\u001b[0m\u001b[0;34m\u001b[0m\u001b[0;34m\u001b[0m\u001b[0m\n\u001b[1;32m      3\u001b[0m \u001b[0;34m\u001b[0m\u001b[0m\n\u001b[0;32m----> 4\u001b[0;31m \u001b[0msaver\u001b[0m \u001b[0;34m=\u001b[0m \u001b[0mtf\u001b[0m\u001b[0;34m.\u001b[0m\u001b[0mtrain\u001b[0m\u001b[0;34m.\u001b[0m\u001b[0mSaver\u001b[0m\u001b[0;34m(\u001b[0m\u001b[0;34m)\u001b[0m\u001b[0;34m\u001b[0m\u001b[0;34m\u001b[0m\u001b[0m\n\u001b[0m\u001b[1;32m      5\u001b[0m \u001b[0msess\u001b[0m \u001b[0;34m=\u001b[0m \u001b[0mtf\u001b[0m\u001b[0;34m.\u001b[0m\u001b[0mSession\u001b[0m\u001b[0;34m(\u001b[0m\u001b[0;34m)\u001b[0m\u001b[0;34m\u001b[0m\u001b[0;34m\u001b[0m\u001b[0m\n\u001b[1;32m      6\u001b[0m \u001b[0msess\u001b[0m\u001b[0;34m.\u001b[0m\u001b[0mrun\u001b[0m\u001b[0;34m(\u001b[0m\u001b[0;34m)\u001b[0m\u001b[0;34m\u001b[0m\u001b[0;34m\u001b[0m\u001b[0m\n",
            "\u001b[0;32m/usr/local/lib/python3.6/dist-packages/tensorflow/python/training/saver.py\u001b[0m in \u001b[0;36m__init__\u001b[0;34m(self, var_list, reshape, sharded, max_to_keep, keep_checkpoint_every_n_hours, name, restore_sequentially, saver_def, builder, defer_build, allow_empty, write_version, pad_step_number, save_relative_paths, filename)\u001b[0m\n\u001b[1;32m   1100\u001b[0m           time.time() + self._keep_checkpoint_every_n_hours * 3600)\n\u001b[1;32m   1101\u001b[0m     \u001b[0;32melif\u001b[0m \u001b[0;32mnot\u001b[0m \u001b[0mdefer_build\u001b[0m\u001b[0;34m:\u001b[0m\u001b[0;34m\u001b[0m\u001b[0;34m\u001b[0m\u001b[0m\n\u001b[0;32m-> 1102\u001b[0;31m       \u001b[0mself\u001b[0m\u001b[0;34m.\u001b[0m\u001b[0mbuild\u001b[0m\u001b[0;34m(\u001b[0m\u001b[0;34m)\u001b[0m\u001b[0;34m\u001b[0m\u001b[0;34m\u001b[0m\u001b[0m\n\u001b[0m\u001b[1;32m   1103\u001b[0m     \u001b[0;32mif\u001b[0m \u001b[0mself\u001b[0m\u001b[0;34m.\u001b[0m\u001b[0msaver_def\u001b[0m\u001b[0;34m:\u001b[0m\u001b[0;34m\u001b[0m\u001b[0;34m\u001b[0m\u001b[0m\n\u001b[1;32m   1104\u001b[0m       \u001b[0mself\u001b[0m\u001b[0;34m.\u001b[0m\u001b[0m_check_saver_def\u001b[0m\u001b[0;34m(\u001b[0m\u001b[0;34m)\u001b[0m\u001b[0;34m\u001b[0m\u001b[0;34m\u001b[0m\u001b[0m\n",
            "\u001b[0;32m/usr/local/lib/python3.6/dist-packages/tensorflow/python/training/saver.py\u001b[0m in \u001b[0;36mbuild\u001b[0;34m(self)\u001b[0m\n\u001b[1;32m   1112\u001b[0m     \u001b[0;32mif\u001b[0m \u001b[0mcontext\u001b[0m\u001b[0;34m.\u001b[0m\u001b[0mexecuting_eagerly\u001b[0m\u001b[0;34m(\u001b[0m\u001b[0;34m)\u001b[0m\u001b[0;34m:\u001b[0m\u001b[0;34m\u001b[0m\u001b[0;34m\u001b[0m\u001b[0m\n\u001b[1;32m   1113\u001b[0m       \u001b[0;32mraise\u001b[0m \u001b[0mRuntimeError\u001b[0m\u001b[0;34m(\u001b[0m\u001b[0;34m\"Use save/restore instead of build in eager mode.\"\u001b[0m\u001b[0;34m)\u001b[0m\u001b[0;34m\u001b[0m\u001b[0;34m\u001b[0m\u001b[0m\n\u001b[0;32m-> 1114\u001b[0;31m     \u001b[0mself\u001b[0m\u001b[0;34m.\u001b[0m\u001b[0m_build\u001b[0m\u001b[0;34m(\u001b[0m\u001b[0mself\u001b[0m\u001b[0;34m.\u001b[0m\u001b[0m_filename\u001b[0m\u001b[0;34m,\u001b[0m \u001b[0mbuild_save\u001b[0m\u001b[0;34m=\u001b[0m\u001b[0;32mTrue\u001b[0m\u001b[0;34m,\u001b[0m \u001b[0mbuild_restore\u001b[0m\u001b[0;34m=\u001b[0m\u001b[0;32mTrue\u001b[0m\u001b[0;34m)\u001b[0m\u001b[0;34m\u001b[0m\u001b[0;34m\u001b[0m\u001b[0m\n\u001b[0m\u001b[1;32m   1115\u001b[0m \u001b[0;34m\u001b[0m\u001b[0m\n\u001b[1;32m   1116\u001b[0m   \u001b[0;32mdef\u001b[0m \u001b[0m_build_eager\u001b[0m\u001b[0;34m(\u001b[0m\u001b[0mself\u001b[0m\u001b[0;34m,\u001b[0m \u001b[0mcheckpoint_path\u001b[0m\u001b[0;34m,\u001b[0m \u001b[0mbuild_save\u001b[0m\u001b[0;34m,\u001b[0m \u001b[0mbuild_restore\u001b[0m\u001b[0;34m)\u001b[0m\u001b[0;34m:\u001b[0m\u001b[0;34m\u001b[0m\u001b[0;34m\u001b[0m\u001b[0m\n",
            "\u001b[0;32m/usr/local/lib/python3.6/dist-packages/tensorflow/python/training/saver.py\u001b[0m in \u001b[0;36m_build\u001b[0;34m(self, checkpoint_path, build_save, build_restore)\u001b[0m\n\u001b[1;32m   1137\u001b[0m           \u001b[0;32mreturn\u001b[0m\u001b[0;34m\u001b[0m\u001b[0;34m\u001b[0m\u001b[0m\n\u001b[1;32m   1138\u001b[0m         \u001b[0;32melse\u001b[0m\u001b[0;34m:\u001b[0m\u001b[0;34m\u001b[0m\u001b[0;34m\u001b[0m\u001b[0m\n\u001b[0;32m-> 1139\u001b[0;31m           \u001b[0;32mraise\u001b[0m \u001b[0mValueError\u001b[0m\u001b[0;34m(\u001b[0m\u001b[0;34m\"No variables to save\"\u001b[0m\u001b[0;34m)\u001b[0m\u001b[0;34m\u001b[0m\u001b[0;34m\u001b[0m\u001b[0m\n\u001b[0m\u001b[1;32m   1140\u001b[0m       \u001b[0mself\u001b[0m\u001b[0;34m.\u001b[0m\u001b[0m_is_empty\u001b[0m \u001b[0;34m=\u001b[0m \u001b[0;32mFalse\u001b[0m\u001b[0;34m\u001b[0m\u001b[0;34m\u001b[0m\u001b[0m\n\u001b[1;32m   1141\u001b[0m \u001b[0;34m\u001b[0m\u001b[0m\n",
            "\u001b[0;31mValueError\u001b[0m: No variables to save"
          ]
        }
      ]
    },
    {
      "metadata": {
        "id": "dq1jKs_nCk-Q",
        "colab_type": "text"
      },
      "cell_type": "markdown",
      "source": [
        "#  Β. Εισαγωγή Dataset"
      ]
    },
    {
      "metadata": {
        "id": "xDaeEb7fvP-S",
        "colab_type": "text"
      },
      "cell_type": "markdown",
      "source": [
        "1. Σύντομη παρουσίαση του dataset (τι περιγράφει). \n",
        "> To dataset περιέχει διάφορους οικονομικούς δείκτες εταιριών για ένα έτος και το αν εκάστοτε εταιρεία έκλεισε μετά από ένα εώς 5 χρόνια.\n",
        "\n",
        "2. Αριθμός δειγμάτων και χαρακτηριστικών, είδος χαρακτηριστικών. Υπάρχουν μη διατεταγμένα χαρακτηριστικά και ποια είναι αυτά;\n",
        "> Όλα τα features είναι διατεταγμένα αριθμιτικά.\n",
        "\n",
        "3. Υπάρχουν επικεφαλίδες; Αρίθμηση γραμμών;\n",
        "> Η μορφοποίηση είναι arrf. Υπάρχει μία περιγραφή του είδους των δεδομένων (όχι επικεφαλίδα). Δεν υπάρχει αρίθμηση.\n",
        "\n",
        "4. Ποιες είναι οι ετικέτες των κλάσεων και σε ποια κολόνα βρίσκονται; \n",
        "> Είναι 1 άμα η εταιρία έκλεισε και 0 άμα η εταιρία επιβίωσε στο διάστημα που μελετάμε.\n",
        "\n",
        "5. Χρειάστηκε να κάνετε μετατροπές στα αρχεία text και ποιες? \n",
        "> Όχι\n",
        "\n",
        "6. Υπάρχουν απουσιάζουσες τιμές; Πόσα είναι τα δείγματα με απουσιάζουσες τιμές και ποιο το ποσοστό τους επί του συνόλου; \n",
        "> Υπάρχουν τιμές που λείπουν αν και είναι σε αρκετά μικρό ποσοστό. Αυτό διορθώνεται εύκολα είτε με αφαίρεση των προβληματικών δειγμάτων (καθώς δεν είναι πολλά), είτε με συμπλήρωση με τον μέσο όρο του feature για το οποίο δεν έχουμε πληροφορία. Σε κάθε αρχείο υπάρχει διαφορετικός αριθμός προβληματικών μετρήσεων.\n",
        "\n",
        "7. Ποιος είναι ο αριθμός των κλάσεων και τα ποσοστά δειγμάτων τους επί του συνόλου; Αν θεωρήσουμε ότι ένα dataset είναι μη ισορροπημένο αν μια οποιαδήποτε κλάση είναι 1.5 φορά πιο συχνή από κάποια άλλη (60%-40% σε binary datasets) εκτιμήστε την ισορροπία του dataset.\n",
        "> Ο αριθμός τον εταιριών που επιβιώσαν είναι πολύ μεγαλύτερος από αυτών που κλείσαν. Πχ στο πρώτο dataset, το ποσοστώ των εταιριών που κλείσαν είναι κάτω από 4%.\n",
        "\n",
        "8. Διαχωρίστε σε train και test set. Εάν υπάρχουν απουσιάζουσες τιμές και μη διατεταγμένα χαρακτηριστικά διαχειριστείτε τα και αιτιολογήστε τις επιλογές σας.\n",
        "> Βλέπετε παρακάτω."
      ]
    },
    {
      "metadata": {
        "id": "HoiA7kckCnvJ",
        "colab_type": "text"
      },
      "cell_type": "markdown",
      "source": [
        "Πρώτα κάνουμε εισαγωγή και αναβάθμιση όλων των λογισμικών πακέτων που θα χρειαστούμε στο πρόγραμμά μας."
      ]
    },
    {
      "metadata": {
        "id": "tJyRF5YRCoXa",
        "colab_type": "code",
        "outputId": "6f523e70-bf3c-4c65-957a-d4daca70938b",
        "colab": {
          "base_uri": "https://localhost:8080/",
          "height": 1261
        }
      },
      "cell_type": "code",
      "source": [
        "!pip install --force-reinstall --upgrade pip #upgrade pip package installer\n",
        "!pip install numpy --force-reinstall --upgrade #upgrade numpy package\n",
        "!pip install pandas --upgrade #upgrade pandas package\n",
        "!pip install scikit-learn --upgrade #upgrade scikit-learn package\n",
        "!pip install predictive_imputer --upgrade #upgrade imputer package\n",
        "!pip install imbalanced-learn --upgrade\n",
        "!pip install liac-arff --upgrade\n",
        "!pip install matplotlib --upgrade"
      ],
      "execution_count": 2,
      "outputs": [
        {
          "output_type": "stream",
          "text": [
            "Collecting pip\n",
            "\u001b[?25l  Downloading https://files.pythonhosted.org/packages/c2/d7/90f34cb0d83a6c5631cf71dfe64cc1054598c843a92b400e55675cc2ac37/pip-18.1-py2.py3-none-any.whl (1.3MB)\n",
            "\u001b[K    100% |████████████████████████████████| 1.3MB 15.8MB/s \n",
            "\u001b[?25hInstalling collected packages: pip\n",
            "  Found existing installation: pip 18.1\n",
            "    Uninstalling pip-18.1:\n",
            "      Successfully uninstalled pip-18.1\n",
            "Successfully installed pip-18.1\n",
            "Collecting numpy\n",
            "\u001b[?25l  Downloading https://files.pythonhosted.org/packages/ff/7f/9d804d2348471c67a7d8b5f84f9bc59fd1cefa148986f2b74552f8573555/numpy-1.15.4-cp36-cp36m-manylinux1_x86_64.whl (13.9MB)\n",
            "\u001b[K    100% |████████████████████████████████| 13.9MB 2.7MB/s \n",
            "\u001b[31mthinc 6.12.1 has requirement msgpack<0.6.0,>=0.5.6, but you'll have msgpack 0.6.0 which is incompatible.\u001b[0m\n",
            "\u001b[31mfeaturetools 0.4.1 has requirement pandas>=0.23.0, but you'll have pandas 0.22.0 which is incompatible.\u001b[0m\n",
            "\u001b[31mcufflinks 0.14.6 has requirement plotly>=3.0.0, but you'll have plotly 1.12.12 which is incompatible.\u001b[0m\n",
            "\u001b[?25hInstalling collected packages: numpy\n",
            "  Found existing installation: numpy 1.14.6\n",
            "    Uninstalling numpy-1.14.6:\n",
            "      Successfully uninstalled numpy-1.14.6\n",
            "Successfully installed numpy-1.15.4\n",
            "Collecting pandas\n",
            "\u001b[?25l  Downloading https://files.pythonhosted.org/packages/e1/d8/feeb346d41f181e83fba45224ab14a8d8af019b48af742e047f3845d8cff/pandas-0.23.4-cp36-cp36m-manylinux1_x86_64.whl (8.9MB)\n",
            "\u001b[K    100% |████████████████████████████████| 8.9MB 4.3MB/s \n",
            "\u001b[?25hRequirement already satisfied, skipping upgrade: numpy>=1.9.0 in /usr/local/lib/python3.6/dist-packages (from pandas) (1.15.4)\n",
            "Requirement already satisfied, skipping upgrade: python-dateutil>=2.5.0 in /usr/local/lib/python3.6/dist-packages (from pandas) (2.5.3)\n",
            "Requirement already satisfied, skipping upgrade: pytz>=2011k in /usr/local/lib/python3.6/dist-packages (from pandas) (2018.7)\n",
            "Requirement already satisfied, skipping upgrade: six>=1.5 in /usr/local/lib/python3.6/dist-packages (from python-dateutil>=2.5.0->pandas) (1.11.0)\n",
            "\u001b[31mcufflinks 0.14.6 has requirement plotly>=3.0.0, but you'll have plotly 1.12.12 which is incompatible.\u001b[0m\n",
            "Installing collected packages: pandas\n",
            "  Found existing installation: pandas 0.22.0\n",
            "    Uninstalling pandas-0.22.0:\n",
            "      Successfully uninstalled pandas-0.22.0\n",
            "Successfully installed pandas-0.23.4\n",
            "Requirement already up-to-date: scikit-learn in /usr/local/lib/python3.6/dist-packages (0.20.1)\n",
            "Requirement already satisfied, skipping upgrade: scipy>=0.13.3 in /usr/local/lib/python3.6/dist-packages (from scikit-learn) (1.1.0)\n",
            "Requirement already satisfied, skipping upgrade: numpy>=1.8.2 in /usr/local/lib/python3.6/dist-packages (from scikit-learn) (1.15.4)\n",
            "Collecting predictive_imputer\n",
            "  Downloading https://files.pythonhosted.org/packages/75/0b/f9303bd643fe9f0b3374f446a6c6bda229e4e1668942629cb3628bff63ea/predictive_imputer-0.2.0-py2.py3-none-any.whl\n",
            "Requirement already satisfied, skipping upgrade: scikit-learn in /usr/local/lib/python3.6/dist-packages (from predictive_imputer) (0.20.1)\n",
            "Requirement already satisfied, skipping upgrade: scipy>=0.13.3 in /usr/local/lib/python3.6/dist-packages (from scikit-learn->predictive_imputer) (1.1.0)\n",
            "Requirement already satisfied, skipping upgrade: numpy>=1.8.2 in /usr/local/lib/python3.6/dist-packages (from scikit-learn->predictive_imputer) (1.15.4)\n",
            "Installing collected packages: predictive-imputer\n",
            "Successfully installed predictive-imputer-0.2.0\n",
            "Requirement already up-to-date: imbalanced-learn in /usr/local/lib/python3.6/dist-packages (0.4.3)\n",
            "Requirement already satisfied, skipping upgrade: numpy>=1.8.2 in /usr/local/lib/python3.6/dist-packages (from imbalanced-learn) (1.15.4)\n",
            "Requirement already satisfied, skipping upgrade: scikit-learn>=0.20 in /usr/local/lib/python3.6/dist-packages (from imbalanced-learn) (0.20.1)\n",
            "Requirement already satisfied, skipping upgrade: scipy>=0.13.3 in /usr/local/lib/python3.6/dist-packages (from imbalanced-learn) (1.1.0)\n",
            "Collecting liac-arff\n",
            "  Downloading https://files.pythonhosted.org/packages/c9/c3/6966861e2f4d302ac3a36821f7ac503b57d98cb9cc3b28e9cd8ef8b7df65/liac-arff-2.3.1.tar.gz\n",
            "Building wheels for collected packages: liac-arff\n",
            "  Running setup.py bdist_wheel for liac-arff ... \u001b[?25l-\b \bdone\n",
            "\u001b[?25h  Stored in directory: /root/.cache/pip/wheels/81/f0/15/97687f0a23a6859a7ced7e09271d321930c6641c2675d04745\n",
            "Successfully built liac-arff\n",
            "Installing collected packages: liac-arff\n",
            "Successfully installed liac-arff-2.3.1\n",
            "Collecting matplotlib\n",
            "\u001b[?25l  Downloading https://files.pythonhosted.org/packages/71/07/16d781df15be30df4acfd536c479268f1208b2dfbc91e9ca5d92c9caf673/matplotlib-3.0.2-cp36-cp36m-manylinux1_x86_64.whl (12.9MB)\n",
            "\u001b[K    100% |████████████████████████████████| 12.9MB 3.5MB/s \n",
            "\u001b[?25hRequirement already satisfied, skipping upgrade: numpy>=1.10.0 in /usr/local/lib/python3.6/dist-packages (from matplotlib) (1.15.4)\n",
            "Requirement already satisfied, skipping upgrade: pyparsing!=2.0.4,!=2.1.2,!=2.1.6,>=2.0.1 in /usr/local/lib/python3.6/dist-packages (from matplotlib) (2.3.0)\n",
            "Collecting kiwisolver>=1.0.1 (from matplotlib)\n",
            "\u001b[?25l  Downloading https://files.pythonhosted.org/packages/69/a7/88719d132b18300b4369fbffa741841cfd36d1e637e1990f27929945b538/kiwisolver-1.0.1-cp36-cp36m-manylinux1_x86_64.whl (949kB)\n",
            "\u001b[K    100% |████████████████████████████████| 952kB 19.2MB/s \n",
            "\u001b[?25hRequirement already satisfied, skipping upgrade: cycler>=0.10 in /usr/local/lib/python3.6/dist-packages (from matplotlib) (0.10.0)\n",
            "Requirement already satisfied, skipping upgrade: python-dateutil>=2.1 in /usr/local/lib/python3.6/dist-packages (from matplotlib) (2.5.3)\n",
            "Requirement already satisfied, skipping upgrade: setuptools in /usr/local/lib/python3.6/dist-packages (from kiwisolver>=1.0.1->matplotlib) (40.6.2)\n",
            "Requirement already satisfied, skipping upgrade: six in /usr/local/lib/python3.6/dist-packages (from cycler>=0.10->matplotlib) (1.11.0)\n",
            "\u001b[31myellowbrick 0.9 has requirement matplotlib<3.0,>=1.5.1, but you'll have matplotlib 3.0.2 which is incompatible.\u001b[0m\n",
            "Installing collected packages: kiwisolver, matplotlib\n",
            "  Found existing installation: matplotlib 2.1.2\n",
            "    Uninstalling matplotlib-2.1.2:\n",
            "      Successfully uninstalled matplotlib-2.1.2\n",
            "Successfully installed kiwisolver-1.0.1 matplotlib-3.0.2\n"
          ],
          "name": "stdout"
        }
      ]
    },
    {
      "metadata": {
        "id": "9NnNncoSCr5q",
        "colab_type": "text"
      },
      "cell_type": "markdown",
      "source": [
        "Ορίζουμε παραμέτρους οι οποίες αφορούν το είδος της προεπεξεργασίας που θα χρησιμοποιηθεί:\n",
        "\n",
        "- Όταν ***Scalling = True*** τότε κάνουμε κανονικοποίηση.\n",
        "- Όταν OverSampler = True τότε θα εξισορροπηθεί το dataset. O OverSampler είναι πάντα True σε αυτά τα δεδομένα.\n",
        "- Όταν minmaxScater = False τότε αυτομάτως standardScater = True και κάνουμε επιλογή ανάμεσα στις δύο μεθόδους κανονικοποίησης.\n",
        "Στην περίπτωση του minmaxScatter κάνουμε και επεξεργασία με επιλογή χαρακτηριστικών με βάση τη διακύμανση αυτών με χρήση της variance_threshhold\n",
        "- Όταν PCA_var = True τότε κάνουμε μείωση διαστάσεων.\n",
        "Τρέξαμε το πρόγραμμα με όλους τους δυνατούς συνδυασμούς των παρακάτω παραμέτρων και κρατήσαμε ως τελικές τιμές τον καλύτερο δυνατό."
      ]
    },
    {
      "metadata": {
        "id": "8ccrLcTkC1Ue",
        "colab_type": "code",
        "colab": {}
      },
      "cell_type": "code",
      "source": [
        "# definitions\n",
        "test_split = 0.3\n",
        "variance_threshhold = 0.2\n",
        "minmaxScater = False\n",
        "standardScater = not minmaxScater\n",
        "OverSampler = True\n",
        "PCA_var = True"
      ],
      "execution_count": 0,
      "outputs": []
    },
    {
      "metadata": {
        "id": "hi4NVBm0CztI",
        "colab_type": "text"
      },
      "cell_type": "markdown",
      "source": [
        "Εισαγωγή δεδομένων"
      ]
    },
    {
      "metadata": {
        "id": "5tjz_vnPEKhq",
        "colab_type": "code",
        "outputId": "d5b1455f-cf4c-41b4-d43f-b8a8f6477eec",
        "colab": {
          "base_uri": "https://localhost:8080/",
          "height": 343
        }
      },
      "cell_type": "code",
      "source": [
        "!pip install PyDrive --upgrade"
      ],
      "execution_count": 4,
      "outputs": [
        {
          "output_type": "stream",
          "text": [
            "Collecting PyDrive\n",
            "\u001b[?25l  Downloading https://files.pythonhosted.org/packages/52/e0/0e64788e5dd58ce2d6934549676243dc69d982f198524be9b99e9c2a4fd5/PyDrive-1.3.1.tar.gz (987kB)\n",
            "\u001b[K    100% |████████████████████████████████| 993kB 18.5MB/s \n",
            "\u001b[?25hRequirement already satisfied, skipping upgrade: google-api-python-client>=1.2 in /usr/local/lib/python3.6/dist-packages (from PyDrive) (1.6.7)\n",
            "Requirement already satisfied, skipping upgrade: oauth2client>=4.0.0 in /usr/local/lib/python3.6/dist-packages (from PyDrive) (4.1.3)\n",
            "Requirement already satisfied, skipping upgrade: PyYAML>=3.0 in /usr/local/lib/python3.6/dist-packages (from PyDrive) (3.13)\n",
            "Requirement already satisfied, skipping upgrade: six<2dev,>=1.6.1 in /usr/local/lib/python3.6/dist-packages (from google-api-python-client>=1.2->PyDrive) (1.11.0)\n",
            "Requirement already satisfied, skipping upgrade: httplib2<1dev,>=0.9.2 in /usr/local/lib/python3.6/dist-packages (from google-api-python-client>=1.2->PyDrive) (0.11.3)\n",
            "Requirement already satisfied, skipping upgrade: uritemplate<4dev,>=3.0.0 in /usr/local/lib/python3.6/dist-packages (from google-api-python-client>=1.2->PyDrive) (3.0.0)\n",
            "Requirement already satisfied, skipping upgrade: pyasn1-modules>=0.0.5 in /usr/local/lib/python3.6/dist-packages (from oauth2client>=4.0.0->PyDrive) (0.2.2)\n",
            "Requirement already satisfied, skipping upgrade: pyasn1>=0.1.7 in /usr/local/lib/python3.6/dist-packages (from oauth2client>=4.0.0->PyDrive) (0.4.4)\n",
            "Requirement already satisfied, skipping upgrade: rsa>=3.1.4 in /usr/local/lib/python3.6/dist-packages (from oauth2client>=4.0.0->PyDrive) (4.0)\n",
            "Building wheels for collected packages: PyDrive\n",
            "  Running setup.py bdist_wheel for PyDrive ... \u001b[?25l-\b \bdone\n",
            "\u001b[?25h  Stored in directory: /root/.cache/pip/wheels/fa/d2/9a/d3b6b506c2da98289e5d417215ce34b696db856643bad779f4\n",
            "Successfully built PyDrive\n",
            "Installing collected packages: PyDrive\n",
            "Successfully installed PyDrive-1.3.1\n"
          ],
          "name": "stdout"
        }
      ]
    },
    {
      "metadata": {
        "id": "NNohDqA9EP-2",
        "colab_type": "code",
        "outputId": "57565978-009b-4552-c25e-270a79bda8ca",
        "colab": {
          "base_uri": "https://localhost:8080/",
          "height": 122
        }
      },
      "cell_type": "code",
      "source": [
        "# import os\n",
        "# from pydrive.auth import GoogleAuth\n",
        "# from pydrive.drive import GoogleDrive\n",
        "# from google.colab import auth\n",
        "# from oauth2client.client import GoogleCredentials\n",
        "\n",
        "# auth.authenticate_user()\n",
        "# gauth = GoogleAuth()\n",
        "# gauth.credentials = GoogleCredentials.get_application_default()\n",
        "# drive = GoogleDrive(gauth)\n",
        "\n",
        "from google.colab import drive\n",
        "drive.mount('/content/drive')"
      ],
      "execution_count": 5,
      "outputs": [
        {
          "output_type": "stream",
          "text": [
            "Go to this URL in a browser: https://accounts.google.com/o/oauth2/auth?client_id=947318989803-6bn6qk8qdgf4n4g3pfee6491hc0brc4i.apps.googleusercontent.com&redirect_uri=urn%3Aietf%3Awg%3Aoauth%3A2.0%3Aoob&scope=email%20https%3A%2F%2Fwww.googleapis.com%2Fauth%2Fdocs.test%20https%3A%2F%2Fwww.googleapis.com%2Fauth%2Fdrive%20https%3A%2F%2Fwww.googleapis.com%2Fauth%2Fdrive.photos.readonly%20https%3A%2F%2Fwww.googleapis.com%2Fauth%2Fpeopleapi.readonly&response_type=code\n",
            "\n",
            "Enter your authorization code:\n",
            "··········\n",
            "Mounted at /content/drive\n"
          ],
          "name": "stdout"
        }
      ]
    },
    {
      "metadata": {
        "id": "Aw6WuZZh6itf",
        "colab_type": "text"
      },
      "cell_type": "markdown",
      "source": [
        "Καθώς κάθε dataset είναι διαφορετικής φύσης (μιλάει για άλλα πράγματα) θα ήταν ίσως λάθος να ενώσουμε τα datasets. Η έννωση θα προέβλεπε άμα μία εταιρία θα κλείσει μέσα σε διάστειμα 5 χρόνων, κάτι που ίσως δεν είναι τόσο εύκολο αλλά παρακάτω θα δούμε κατά πόσο μπορεί να επιτευχθεί ανεκτό αποτέλεσμα με αυτήν την προσέγκιση. Μία καλή τακτική θα ήταν classification με 6 labels (η εταιρία κλείνει σε 1, 2..5 χρόνια ή δεν κλείνει) αλλά αυτό πηγαίνει πέρα από τα πλαίσια αυτής της άσκησης.\n",
        "\n",
        "Προς το παρόν θα μελετήσουμε μόνο το πρώτο dataset."
      ]
    },
    {
      "metadata": {
        "id": "SsiVBliACyL0",
        "colab_type": "code",
        "outputId": "729e0617-cc14-4c8c-c6ce-bc63f3237adb",
        "colab": {
          "base_uri": "https://localhost:8080/",
          "height": 51
        }
      },
      "cell_type": "code",
      "source": [
        "import numpy as np\n",
        "import arff\n",
        "\n",
        "year1 = '/content/drive/My Drive/Colab Notebooks/1year.arff'\n",
        "year2 = '/content/drive/My Drive/Colab Notebooks/2year.arff'\n",
        "year3 = '/content/drive/My Drive/Colab Notebooks/3year.arff'\n",
        "year4 = '/content/drive/My Drive/Colab Notebooks/4year.arff'\n",
        "year5 = '/content/drive/My Drive/Colab Notebooks/5year.arff'\n",
        "\n",
        "dataset1 = arff.load(open(year1))\n",
        "data1 = np.array(dataset1['data']).astype(float) #κάνει τα κενά np.nan\n",
        "\n",
        "dataset2 = arff.load(open(year2))\n",
        "data2 = np.array(dataset2['data']).astype(float) #κάνει τα κενά np.nan\n",
        "\n",
        "dataset3 = arff.load(open(year3))\n",
        "data3 = np.array(dataset3['data']).astype(float) #κάνει τα κενά np.nan\n",
        "\n",
        "dataset4 = arff.load(open(year4))\n",
        "data4 = np.array(dataset4['data']).astype(float) #κάνει τα κενά np.nan\n",
        "\n",
        "dataset5 = arff.load(open(year5))\n",
        "data5 = np.array(dataset5['data']).astype(float) #κάνει τα κενά np.nan\n",
        "\n",
        "data = np.concatenate((data1, data2, data3, data4, data5), axis=0)\n",
        "\n",
        "print(data.shape)\n",
        "print(data[:,-1].sum())\n"
      ],
      "execution_count": 6,
      "outputs": [
        {
          "output_type": "stream",
          "text": [
            "(43405, 65)\n",
            "2091.0\n"
          ],
          "name": "stdout"
        }
      ]
    },
    {
      "metadata": {
        "id": "6VAeaq50C7pc",
        "colab_type": "text"
      },
      "cell_type": "markdown",
      "source": [
        "Διαχωρισμός σε Features και Labels.\n",
        "Τα Labels είναι στην τελευταία στήλη.\n",
        "Όλα τα Features (64 σύνολο) είναι αριθμιτικά με ολική διάταξη."
      ]
    },
    {
      "metadata": {
        "id": "m07Xm67dC_iF",
        "colab_type": "code",
        "outputId": "b12644cc-98c1-41af-c47a-5ed6e192ae4b",
        "colab": {
          "base_uri": "https://localhost:8080/",
          "height": 51
        }
      },
      "cell_type": "code",
      "source": [
        "labels = data[:,-1].astype(int)\n",
        "print(labels.shape)\n",
        "\n",
        "features = data[:,0:-1]\n",
        "print(features.shape)"
      ],
      "execution_count": 7,
      "outputs": [
        {
          "output_type": "stream",
          "text": [
            "(43405,)\n",
            "(43405, 64)\n"
          ],
          "name": "stdout"
        }
      ]
    },
    {
      "metadata": {
        "id": "bxkeczLRC7zQ",
        "colab_type": "text"
      },
      "cell_type": "markdown",
      "source": [
        "Διαχωρισμός test και train."
      ]
    },
    {
      "metadata": {
        "id": "GISS4QtbDDdw",
        "colab_type": "code",
        "outputId": "853762e4-9edb-4d48-dab2-c85c7ab9bf06",
        "colab": {
          "base_uri": "https://localhost:8080/",
          "height": 34
        }
      },
      "cell_type": "code",
      "source": [
        "from sklearn.model_selection import train_test_split\n",
        "import random\n",
        "\n",
        "train, test, train_labels, test_labels = train_test_split(features, labels, test_size=test_split)\n",
        "print(test.shape, train.shape)"
      ],
      "execution_count": 8,
      "outputs": [
        {
          "output_type": "stream",
          "text": [
            "(13022, 64) (30383, 64)\n"
          ],
          "name": "stdout"
        }
      ]
    },
    {
      "metadata": {
        "id": "SUwpa3zu_YKD",
        "colab_type": "text"
      },
      "cell_type": "markdown",
      "source": [
        "Για την συμπλήρωση των κενών τιμών μπορούμε να κάνουμε χρήση της SimpleImputer. Καθώς όλες οι μεταβλητές είναι διατεταγμένες κάνουμε χρήση της strategy='mean'. Αυτή η διαδικασία μπορεί να γίνει και μέσα στο pipe για λόγους καθαρώτητας και πληρώτητας."
      ]
    },
    {
      "metadata": {
        "id": "XTbyGYgRAhoZ",
        "colab_type": "code",
        "outputId": "80ef466f-5901-4237-e2b3-839b5b43ecf1",
        "colab": {
          "base_uri": "https://localhost:8080/",
          "height": 34
        }
      },
      "cell_type": "code",
      "source": [
        "from sklearn.impute import SimpleImputer\n",
        "\n",
        "imp = SimpleImputer(missing_values=np.nan, strategy='mean')\n",
        "imp.fit(train, train_labels)\n",
        "train_imputed = imp.transform(train)\n",
        "test_imputed = imp.transform(test)\n",
        "print(train_imputed[train_imputed == np.nan])#checking"
      ],
      "execution_count": 9,
      "outputs": [
        {
          "output_type": "stream",
          "text": [
            "[]\n"
          ],
          "name": "stdout"
        }
      ]
    },
    {
      "metadata": {
        "id": "ZX6dhPWhDd5y",
        "colab_type": "text"
      },
      "cell_type": "markdown",
      "source": [
        "Άλλη σημαντική επεξεργασία είναι η εξισορόπηση των sets. Αυτό γίνεται με την χρήση του RandomOverSampler. Και αυτό το βήμα μπορεί να μπεί μέσα στο Pipeline.\n"
      ]
    },
    {
      "metadata": {
        "id": "N5gNNnX2EER7",
        "colab_type": "code",
        "outputId": "7c7dc7bb-94d0-4fa1-976b-175e0c1050c2",
        "colab": {
          "base_uri": "https://localhost:8080/",
          "height": 68
        }
      },
      "cell_type": "code",
      "source": [
        "from imblearn.under_sampling import RandomUnderSampler\n",
        "import warnings \n",
        "\n",
        "warnings.filterwarnings('ignore')\n",
        "\n",
        "rus = RandomUnderSampler()\n",
        "train_sampled, train_labels_sampled = rus.fit_resample(train_imputed, train_labels)\n",
        "\n",
        "print('1: ', train_labels_sampled.sum(), '\\n0: ', train_labels_sampled.shape[0]-train_labels_sampled.sum(), '\\ntotal:', train_labels_sampled.shape[0])#checking\n",
        "\n",
        "warnings.filterwarnings('always')"
      ],
      "execution_count": 10,
      "outputs": [
        {
          "output_type": "stream",
          "text": [
            "1:  1460 \n",
            "0:  1460 \n",
            "total: 2920\n"
          ],
          "name": "stdout"
        }
      ]
    },
    {
      "metadata": {
        "id": "EFvIj1LoDMeM",
        "colab_type": "text"
      },
      "cell_type": "markdown",
      "source": [
        "Συνάρτηση για προβολή confusion matricies"
      ]
    },
    {
      "metadata": {
        "id": "P4ME0UNuDInw",
        "colab_type": "code",
        "colab": {
          "base_uri": "https://localhost:8080/",
          "height": 309
        },
        "outputId": "7c48984e-b848-4434-a04e-0a8d8d5ec04e"
      },
      "cell_type": "code",
      "source": [
        "import itertools\n",
        "import numpy as np\n",
        "import matplotlib.pyplot as plt\n",
        "\n",
        "from sklearn import svm, datasets\n",
        "from sklearn.model_selection import train_test_split\n",
        "from sklearn.metrics import confusion_matrix\n",
        "\n",
        "def plot_confusion_matrix(cm, classes,\n",
        "                          normalize=False,\n",
        "                          title='Confusion matrix',\n",
        "                          cmap=plt.cm.Blues):\n",
        "    \"\"\"\n",
        "    This function prints and plots the confusion matrix.\n",
        "    Normalization can be applied by setting `normalize=True`.\n",
        "    \"\"\"\n",
        "    if normalize:\n",
        "        cm = cm.astype('float') / cm.sum(axis=1)[:, np.newaxis]\n",
        "        print(\"Normalized confusion matrix\")\n",
        "    else:\n",
        "        print('Confusion matrix, without normalization')\n",
        "\n",
        "    print(cm)\n",
        "\n",
        "    plt.imshow(cm, interpolation='nearest', cmap=cmap)\n",
        "    plt.title(title)\n",
        "    plt.colorbar()\n",
        "    tick_marks = np.arange(len(classes))\n",
        "    plt.xticks(tick_marks, classes, rotation=45)\n",
        "    plt.yticks(tick_marks, classes)\n",
        "\n",
        "    fmt = '.2f' if normalize else 'd'\n",
        "    thresh = cm.max() / 1.5\n",
        "    for i, j in itertools.product(range(cm.shape[0]), range(cm.shape[1])):\n",
        "        plt.text(j, i, format(cm[i, j], fmt),\n",
        "                 horizontalalignment=\"center\",\n",
        "                 color=\"white\" if cm[i, j] > thresh else \"black\")\n",
        "\n",
        "    plt.ylabel('True label')\n",
        "    plt.xlabel('Predicted label')\n",
        "    plt.tight_layout()"
      ],
      "execution_count": 11,
      "outputs": [
        {
          "output_type": "stream",
          "text": [
            "/usr/lib/python3.6/importlib/_bootstrap.py:219: ImportWarning: can't resolve package from __spec__ or __package__, falling back on __name__ and __path__\n",
            "  return f(*args, **kwds)\n",
            "/usr/lib/python3.6/importlib/_bootstrap.py:219: ImportWarning: can't resolve package from __spec__ or __package__, falling back on __name__ and __path__\n",
            "  return f(*args, **kwds)\n",
            "/usr/lib/python3.6/importlib/_bootstrap.py:219: ImportWarning: can't resolve package from __spec__ or __package__, falling back on __name__ and __path__\n",
            "  return f(*args, **kwds)\n",
            "/usr/lib/python3.6/importlib/_bootstrap.py:219: ImportWarning: can't resolve package from __spec__ or __package__, falling back on __name__ and __path__\n",
            "  return f(*args, **kwds)\n",
            "/usr/lib/python3.6/importlib/_bootstrap.py:219: ImportWarning: can't resolve package from __spec__ or __package__, falling back on __name__ and __path__\n",
            "  return f(*args, **kwds)\n",
            "/usr/lib/python3.6/importlib/_bootstrap.py:219: ImportWarning: can't resolve package from __spec__ or __package__, falling back on __name__ and __path__\n",
            "  return f(*args, **kwds)\n",
            "/usr/lib/python3.6/importlib/_bootstrap.py:219: ImportWarning: can't resolve package from __spec__ or __package__, falling back on __name__ and __path__\n",
            "  return f(*args, **kwds)\n",
            "/usr/lib/python3.6/importlib/_bootstrap.py:219: ImportWarning: can't resolve package from __spec__ or __package__, falling back on __name__ and __path__\n",
            "  return f(*args, **kwds)\n"
          ],
          "name": "stderr"
        }
      ]
    },
    {
      "metadata": {
        "id": "SuPTFMzdPO0N",
        "colab_type": "text"
      },
      "cell_type": "markdown",
      "source": [
        "# C. Baseline classification"
      ]
    },
    {
      "metadata": {
        "id": "y23513qNDNXG",
        "colab_type": "code",
        "colab": {}
      },
      "cell_type": "code",
      "source": [
        "from sklearn.model_selection import GridSearchCV\n",
        "from sklearn.neighbors import DistanceMetric\n",
        "\n",
        "#from imblearn.pipeline import Pipeline\n",
        "from imblearn.pipeline import Pipeline\n",
        "from sklearn.neighbors import KNeighborsClassifier\n",
        "from sklearn.metrics import classification_report\n",
        "from sklearn.utils import shuffle\n",
        "\n",
        "\n",
        "# φέρνουμε τις γνωστές μας κλάσεις για preprocessing\n",
        "from sklearn.feature_selection import VarianceThreshold\n",
        "from sklearn.preprocessing import StandardScaler # φέρνουμε τον StandarScaler ως transformer που έχει .transform kai ΄όχι ως scale()\n",
        "from imblearn.over_sampling import RandomOverSampler\n",
        "from sklearn.decomposition import PCA\n",
        "from sklearn.impute import SimpleImputer\n",
        "\n",
        "\n",
        "import time\n",
        "import numpy as np\n",
        "import pandas as pd\n",
        "from sklearn.metrics import accuracy_score\n",
        "import warnings "
      ],
      "execution_count": 0,
      "outputs": []
    },
    {
      "metadata": {
        "id": "26kbbXLYun-Y",
        "colab_type": "text"
      },
      "cell_type": "markdown",
      "source": [
        "1. Εκπαιδεύστε στο train τους classifiers με default τιμές (απλή αρχικοποίηση). Κάντε εκτίμηση στο test set (μαζί με τους dummy) και τυπώστε για κάθε estimator: confusion matrix, f1-micro average και f1-macro average."
      ]
    },
    {
      "metadata": {
        "id": "-dGEYM6r5RQR",
        "colab_type": "text"
      },
      "cell_type": "markdown",
      "source": [
        "### Dummy Classifier"
      ]
    },
    {
      "metadata": {
        "id": "OzDWJSTE-ZOu",
        "colab_type": "text"
      },
      "cell_type": "markdown",
      "source": [
        "#### Dummy Uniform\n"
      ]
    },
    {
      "metadata": {
        "id": "vSwUPlZb3pow",
        "colab_type": "code",
        "outputId": "9b863ae4-4570-4aa7-cccf-c9b92f704b0b",
        "colab": {
          "base_uri": "https://localhost:8080/",
          "height": 272
        }
      },
      "cell_type": "code",
      "source": [
        "from sklearn.dummy import DummyClassifier\n",
        "\n",
        "dummy = DummyClassifier(strategy='uniform')\n",
        "\n",
        "# αρχικοποιούμε τους εκτιμητές (μετασχηματιστές και ταξινομητή) χωρείς παραμέτρους\n",
        "imp = SimpleImputer(missing_values=np.nan, strategy='mean')\n",
        "selector = VarianceThreshold()\n",
        "scaler = StandardScaler()\n",
        "rus = RandomUnderSampler()\n",
        "pca = PCA()\n",
        "\n",
        "pipe = Pipeline(steps=[('imputer', imp), ('selector', selector), ('scaler', scaler), ('sampler', rus), ('pca', pca), ('dummy', dummy)])\n",
        "\n",
        "warnings.filterwarnings('ignore')\n",
        "\n",
        "start_time = time.time()\n",
        "pipe.fit(train, train_labels)\n",
        "preds_uniform = pipe.predict(test)\n",
        "\n",
        "print(\"Συνολικός χρόνος fit και predict: %s seconds\" % (time.time() - start_time))\n",
        "print('\\n')\n",
        "print(classification_report(test_labels, preds_uniform))\n",
        "print('\\n')\n",
        "print(accuracy_score(test_labels, preds_uniform))\n",
        "\n",
        "warnings.filterwarnings('always')"
      ],
      "execution_count": 13,
      "outputs": [
        {
          "output_type": "stream",
          "text": [
            "Συνολικός χρόνος fit και predict: 0.20319700241088867 seconds\n",
            "\n",
            "\n",
            "              precision    recall  f1-score   support\n",
            "\n",
            "           0       0.95      0.50      0.65     12391\n",
            "           1       0.05      0.48      0.08       631\n",
            "\n",
            "   micro avg       0.50      0.50      0.50     13022\n",
            "   macro avg       0.50      0.49      0.37     13022\n",
            "weighted avg       0.91      0.50      0.63     13022\n",
            "\n",
            "\n",
            "\n",
            "0.49823375825526034\n"
          ],
          "name": "stdout"
        }
      ]
    },
    {
      "metadata": {
        "id": "8yS-ksSk_toA",
        "colab_type": "text"
      },
      "cell_type": "markdown",
      "source": [
        "####Dummy Most Frequent"
      ]
    },
    {
      "metadata": {
        "id": "Zz_5cRvk_f21",
        "colab_type": "code",
        "outputId": "6b1178c8-71a2-4098-eef6-7f768d7f6d4a",
        "colab": {
          "base_uri": "https://localhost:8080/",
          "height": 272
        }
      },
      "cell_type": "code",
      "source": [
        "from sklearn.dummy import DummyClassifier\n",
        "\n",
        "dummy = DummyClassifier(strategy='most_frequent')\n",
        "\n",
        "# αρχικοποιούμε τους εκτιμητές (μετασχηματιστές και ταξινομητή) χωρείς παραμέτρους\n",
        "imp = SimpleImputer(missing_values=np.nan, strategy='mean')\n",
        "selector = VarianceThreshold()\n",
        "scaler = StandardScaler()\n",
        "rus = RandomUnderSampler()\n",
        "pca = PCA()\n",
        "\n",
        "pipe = Pipeline(steps=[('imputer', imp), ('selector', selector), ('scaler', scaler), ('sampler', rus), ('pca', pca), ('dummy', dummy)])\n",
        "\n",
        "warnings.filterwarnings('ignore')\n",
        "\n",
        "start_time = time.time()\n",
        "pipe.fit(train, train_labels)\n",
        "preds_most_frequent = pipe.predict(test)\n",
        "\n",
        "print(\"Συνολικός χρόνος fit και predict: %s seconds\" % (time.time() - start_time))\n",
        "print('\\n')\n",
        "print(classification_report(test_labels, preds_most_frequent))\n",
        "print('\\n')\n",
        "print(accuracy_score(test_labels, preds_most_frequent))\n",
        "\n",
        "warnings.filterwarnings('always')"
      ],
      "execution_count": 14,
      "outputs": [
        {
          "output_type": "stream",
          "text": [
            "Συνολικός χρόνος fit και predict: 0.15035462379455566 seconds\n",
            "\n",
            "\n",
            "              precision    recall  f1-score   support\n",
            "\n",
            "           0       0.95      1.00      0.98     12391\n",
            "           1       0.00      0.00      0.00       631\n",
            "\n",
            "   micro avg       0.95      0.95      0.95     13022\n",
            "   macro avg       0.48      0.50      0.49     13022\n",
            "weighted avg       0.91      0.95      0.93     13022\n",
            "\n",
            "\n",
            "\n",
            "0.9515435416986638\n"
          ],
          "name": "stdout"
        }
      ]
    },
    {
      "metadata": {
        "id": "f2o5MnIZ_zEq",
        "colab_type": "text"
      },
      "cell_type": "markdown",
      "source": [
        "#### Dummy Stratified"
      ]
    },
    {
      "metadata": {
        "id": "Az3AGTn8_l_D",
        "colab_type": "code",
        "outputId": "ea01981b-7137-4d05-8376-618feb96a987",
        "colab": {
          "base_uri": "https://localhost:8080/",
          "height": 272
        }
      },
      "cell_type": "code",
      "source": [
        "from sklearn.dummy import DummyClassifier\n",
        "\n",
        "dummy = DummyClassifier(strategy='stratified')\n",
        "\n",
        "# αρχικοποιούμε τους εκτιμητές (μετασχηματιστές και ταξινομητή) χωρείς παραμέτρους\n",
        "imp = SimpleImputer(missing_values=np.nan, strategy='mean')\n",
        "selector = VarianceThreshold()\n",
        "scaler = StandardScaler()\n",
        "rus = RandomUnderSampler()\n",
        "pca = PCA()\n",
        "\n",
        "pipe = Pipeline(steps=[('imputer', imp), ('selector', selector), ('scaler', scaler), ('pca', pca), ('dummy', dummy)])\n",
        "\n",
        "warnings.filterwarnings('ignore')\n",
        "\n",
        "start_time = time.time()\n",
        "pipe.fit(train, train_labels)\n",
        "preds_stratified = pipe.predict(test)\n",
        "\n",
        "print(\"Συνολικός χρόνος fit και predict: %s seconds\" % (time.time() - start_time))\n",
        "print('\\n')\n",
        "print(classification_report(test_labels, preds_stratified))\n",
        "print('\\n')\n",
        "print(accuracy_score(test_labels, preds_stratified))\n",
        "\n",
        "warnings.filterwarnings('always')"
      ],
      "execution_count": 15,
      "outputs": [
        {
          "output_type": "stream",
          "text": [
            "Συνολικός χρόνος fit και predict: 0.28350043296813965 seconds\n",
            "\n",
            "\n",
            "              precision    recall  f1-score   support\n",
            "\n",
            "           0       0.95      0.95      0.95     12391\n",
            "           1       0.06      0.06      0.06       631\n",
            "\n",
            "   micro avg       0.91      0.91      0.91     13022\n",
            "   macro avg       0.51      0.51      0.51     13022\n",
            "weighted avg       0.91      0.91      0.91     13022\n",
            "\n",
            "\n",
            "\n",
            "0.9084626017508831\n"
          ],
          "name": "stdout"
        }
      ]
    },
    {
      "metadata": {
        "id": "GYluGkkk_3qV",
        "colab_type": "text"
      },
      "cell_type": "markdown",
      "source": [
        "#### Dummy Constant 0"
      ]
    },
    {
      "metadata": {
        "id": "ok0xEngk_mP0",
        "colab_type": "code",
        "outputId": "7e2289c8-f04f-4b52-d631-c4907a6cef78",
        "colab": {
          "base_uri": "https://localhost:8080/",
          "height": 272
        }
      },
      "cell_type": "code",
      "source": [
        "from sklearn.dummy import DummyClassifier\n",
        "\n",
        "dummy = DummyClassifier(strategy='constant', constant=0)\n",
        "\n",
        "# αρχικοποιούμε τους εκτιμητές (μετασχηματιστές και ταξινομητή) χωρείς παραμέτρους\n",
        "imp = SimpleImputer(missing_values=np.nan, strategy='mean')\n",
        "selector = VarianceThreshold()\n",
        "scaler = StandardScaler()\n",
        "rus = RandomUnderSampler()\n",
        "pca = PCA()\n",
        "\n",
        "pipe = Pipeline(steps=[('imputer', imp), ('selector', selector), ('scaler', scaler), ('pca', pca), ('dummy', dummy)])\n",
        "\n",
        "warnings.filterwarnings('ignore')\n",
        "\n",
        "start_time = time.time()\n",
        "pipe.fit(train, train_labels)\n",
        "preds_constant_0 = pipe.predict(test)\n",
        "\n",
        "print(\"Συνολικός χρόνος fit και predict: %s seconds\" % (time.time() - start_time))\n",
        "print('\\n')\n",
        "print(classification_report(test_labels, preds_constant_0))\n",
        "print('\\n')\n",
        "print(accuracy_score(test_labels, preds_constant_0))\n",
        "\n",
        "warnings.filterwarnings('always')"
      ],
      "execution_count": 16,
      "outputs": [
        {
          "output_type": "stream",
          "text": [
            "Συνολικός χρόνος fit και predict: 0.34061217308044434 seconds\n",
            "\n",
            "\n",
            "              precision    recall  f1-score   support\n",
            "\n",
            "           0       0.95      1.00      0.98     12391\n",
            "           1       0.00      0.00      0.00       631\n",
            "\n",
            "   micro avg       0.95      0.95      0.95     13022\n",
            "   macro avg       0.48      0.50      0.49     13022\n",
            "weighted avg       0.91      0.95      0.93     13022\n",
            "\n",
            "\n",
            "\n",
            "0.9515435416986638\n"
          ],
          "name": "stdout"
        }
      ]
    },
    {
      "metadata": {
        "id": "lvYjiVmF_60-",
        "colab_type": "text"
      },
      "cell_type": "markdown",
      "source": [
        "#### Dummy Constant 1"
      ]
    },
    {
      "metadata": {
        "id": "pxwIuYFB_mg-",
        "colab_type": "code",
        "outputId": "52ba281a-5161-4876-9461-9c654ccb34d9",
        "colab": {
          "base_uri": "https://localhost:8080/",
          "height": 289
        }
      },
      "cell_type": "code",
      "source": [
        "from sklearn.dummy import DummyClassifier\n",
        "\n",
        "dummy = DummyClassifier(strategy='constant', constant=1)\n",
        "\n",
        "# αρχικοποιούμε τους εκτιμητές (μετασχηματιστές και ταξινομητή) χωρείς παραμέτρους\n",
        "imp = SimpleImputer(missing_values=np.nan, strategy='mean')\n",
        "selector = VarianceThreshold()\n",
        "scaler = StandardScaler()\n",
        "rus = RandomUnderSampler()\n",
        "pca = PCA()\n",
        "\n",
        "pipe = Pipeline(steps=[('imputer', imp), ('selector', selector), ('scaler', scaler), ('pca', pca), ('dummy', dummy)])\n",
        "\n",
        "warnings.filterwarnings('ignore')\n",
        "\n",
        "start_time = time.time()\n",
        "pipe.fit(train, train_labels)\n",
        "preds_constant_1 = pipe.predict(test)\n",
        "\n",
        "print(\"Συνολικός χρόνος fit και predict: %s seconds\" % (time.time() - start_time))\n",
        "print('\\n')\n",
        "print(classification_report(test_labels, preds_constant_1, output_dict=True).get('micro avg').get('f1-score'))\n",
        "print(classification_report(test_labels, preds_constant_1))\n",
        "\n",
        "print('\\n')\n",
        "print(accuracy_score(test_labels, preds_constant_1))\n",
        "\n",
        "warnings.filterwarnings('always')"
      ],
      "execution_count": 17,
      "outputs": [
        {
          "output_type": "stream",
          "text": [
            "Συνολικός χρόνος fit και predict: 0.34467291831970215 seconds\n",
            "\n",
            "\n",
            "0.0484564583013362\n",
            "              precision    recall  f1-score   support\n",
            "\n",
            "           0       0.00      0.00      0.00     12391\n",
            "           1       0.05      1.00      0.09       631\n",
            "\n",
            "   micro avg       0.05      0.05      0.05     13022\n",
            "   macro avg       0.02      0.50      0.05     13022\n",
            "weighted avg       0.00      0.05      0.00     13022\n",
            "\n",
            "\n",
            "\n",
            "0.0484564583013362\n"
          ],
          "name": "stdout"
        }
      ]
    },
    {
      "metadata": {
        "id": "wrQS39FUBJP1",
        "colab_type": "text"
      },
      "cell_type": "markdown",
      "source": [
        "\n",
        "### KNeighborsClassifier"
      ]
    },
    {
      "metadata": {
        "id": "wf-IupC9BJil",
        "colab_type": "code",
        "outputId": "74d7e912-109b-4b43-f6bb-0bbe8a511495",
        "colab": {
          "base_uri": "https://localhost:8080/",
          "height": 272
        }
      },
      "cell_type": "code",
      "source": [
        "from sklearn.neighbors import KNeighborsClassifier\n",
        "\n",
        "kNN = KNeighborsClassifier(n_jobs=-1)\n",
        "\n",
        "# αρχικοποιούμε τους εκτιμητές (μετασχηματιστές και ταξινομητή) χωρείς παραμέτρους\n",
        "imp = SimpleImputer(missing_values=np.nan, strategy='mean')\n",
        "selector = VarianceThreshold()\n",
        "scaler = StandardScaler()\n",
        "rus = RandomUnderSampler()\n",
        "pca = PCA()\n",
        "\n",
        "pipe = Pipeline(steps=[('imputer', imp), ('selector', selector), ('scaler', scaler),  ('pca', pca), ('kNN', kNN)])\n",
        "\n",
        "warnings.filterwarnings('ignore')\n",
        "\n",
        "start_time = time.time()\n",
        "pipe.fit(train, train_labels)\n",
        "preds_knn = pipe.predict(test)\n",
        "\n",
        "print(\"Συνολικός χρόνος fit και predict: %s seconds\" % (time.time() - start_time))\n",
        "print('\\n')\n",
        "print(classification_report(test_labels, preds_knn))\n",
        "print('\\n')\n",
        "print(accuracy_score(test_labels, preds_knn))\n",
        "\n",
        "warnings.filterwarnings('always')"
      ],
      "execution_count": 18,
      "outputs": [
        {
          "output_type": "stream",
          "text": [
            "Συνολικός χρόνος fit και predict: 9.042489051818848 seconds\n",
            "\n",
            "\n",
            "              precision    recall  f1-score   support\n",
            "\n",
            "           0       0.95      1.00      0.97     12391\n",
            "           1       0.34      0.04      0.07       631\n",
            "\n",
            "   micro avg       0.95      0.95      0.95     13022\n",
            "   macro avg       0.65      0.52      0.52     13022\n",
            "weighted avg       0.92      0.95      0.93     13022\n",
            "\n",
            "\n",
            "\n",
            "0.9498540930732606\n"
          ],
          "name": "stdout"
        }
      ]
    },
    {
      "metadata": {
        "id": "GXETD7N4BKN0",
        "colab_type": "text"
      },
      "cell_type": "markdown",
      "source": [
        "### Gaussian Naive Bayes"
      ]
    },
    {
      "metadata": {
        "id": "UcKfpHkVBKlz",
        "colab_type": "code",
        "outputId": "41ab1ab9-3af1-4778-e974-1a5969baa08b",
        "colab": {
          "base_uri": "https://localhost:8080/",
          "height": 272
        }
      },
      "cell_type": "code",
      "source": [
        "from sklearn.naive_bayes import GaussianNB\n",
        "\n",
        "gNB = GaussianNB()\n",
        "\n",
        "# αρχικοποιούμε τους εκτιμητές (μετασχηματιστές και ταξινομητή) χωρείς παραμέτρους\n",
        "imp = SimpleImputer(missing_values=np.nan, strategy='mean')\n",
        "selector = VarianceThreshold()\n",
        "scaler = StandardScaler()\n",
        "rus = RandomUnderSampler()\n",
        "pca = PCA()\n",
        "\n",
        "pipe = Pipeline(steps=[('imputer', imp), ('selector', selector), ('scaler', scaler), ('pca', pca), ('gnb', gNB)])\n",
        "\n",
        "warnings.filterwarnings('ignore')\n",
        "\n",
        "start_time = time.time()\n",
        "pipe.fit(train, train_labels)\n",
        "preds_gnb = pipe.predict(test)\n",
        "\n",
        "print(\"Συνολικός χρόνος fit και predict: %s seconds\" % (time.time() - start_time))\n",
        "print('\\n')\n",
        "print(classification_report(test_labels, preds_gnb))\n",
        "print('\\n')\n",
        "print(accuracy_score(test_labels, preds_gnb))\n",
        "\n",
        "warnings.filterwarnings('always')"
      ],
      "execution_count": 19,
      "outputs": [
        {
          "output_type": "stream",
          "text": [
            "Συνολικός χρόνος fit και predict: 0.37616777420043945 seconds\n",
            "\n",
            "\n",
            "              precision    recall  f1-score   support\n",
            "\n",
            "           0       0.96      0.04      0.08     12391\n",
            "           1       0.05      0.97      0.09       631\n",
            "\n",
            "   micro avg       0.09      0.09      0.09     13022\n",
            "   macro avg       0.51      0.51      0.09     13022\n",
            "weighted avg       0.92      0.09      0.08     13022\n",
            "\n",
            "\n",
            "\n",
            "0.0876977422822915\n"
          ],
          "name": "stdout"
        }
      ]
    },
    {
      "metadata": {
        "id": "xdfLgu1sBK0t",
        "colab_type": "text"
      },
      "cell_type": "markdown",
      "source": [
        "### MLP"
      ]
    },
    {
      "metadata": {
        "id": "QtlQkSkaBLCT",
        "colab_type": "code",
        "outputId": "e6b4f07e-82aa-45db-ca3b-b7ff08884bf0",
        "colab": {
          "base_uri": "https://localhost:8080/",
          "height": 272
        }
      },
      "cell_type": "code",
      "source": [
        "from sklearn.neural_network import MLPClassifier\n",
        "\n",
        "MLP = MLPClassifier()\n",
        "\n",
        "# αρχικοποιούμε τους εκτιμητές (μετασχηματιστές και ταξινομητή) χωρείς παραμέτρους\n",
        "imp = SimpleImputer(missing_values=np.nan, strategy='mean')\n",
        "selector = VarianceThreshold()\n",
        "scaler = StandardScaler()\n",
        "rus = RandomUnderSampler()\n",
        "pca = PCA()\n",
        "\n",
        "pipe = Pipeline(steps=[('imputer', imp), ('scaler', scaler), ('pca', pca), ('selector', selector), ('mlp', MLP)])\n",
        "\n",
        "warnings.filterwarnings('ignore')\n",
        "\n",
        "start_time = time.time()\n",
        "pipe.fit(train, train_labels)\n",
        "preds_mlp = pipe.predict(test)\n",
        "\n",
        "print(\"Συνολικός χρόνος fit και predict: %s seconds\" % (time.time() - start_time))\n",
        "print('\\n')\n",
        "print(classification_report(test_labels, preds_mlp))\n",
        "print('\\n')\n",
        "print(accuracy_score(test_labels, preds_mlp))\n",
        "\n",
        "warnings.filterwarnings('always')"
      ],
      "execution_count": 21,
      "outputs": [
        {
          "output_type": "stream",
          "text": [
            "Συνολικός χρόνος fit και predict: 44.789084911346436 seconds\n",
            "\n",
            "\n",
            "              precision    recall  f1-score   support\n",
            "\n",
            "           0       0.96      1.00      0.98     12391\n",
            "           1       0.73      0.25      0.37       631\n",
            "\n",
            "   micro avg       0.96      0.96      0.96     13022\n",
            "   macro avg       0.85      0.62      0.67     13022\n",
            "weighted avg       0.95      0.96      0.95     13022\n",
            "\n",
            "\n",
            "\n",
            "0.9590692673936415\n"
          ],
          "name": "stdout"
        }
      ]
    },
    {
      "metadata": {
        "id": "HAtcf1In3p8l",
        "colab_type": "text"
      },
      "cell_type": "markdown",
      "source": [
        "2. Για κάθε averaged metric, εκτυπώστε bar plot συγκρισης με τις τιμές του συγκεκριμένου f1 για όλους τους classifiers."
      ]
    },
    {
      "metadata": {
        "id": "-fGKyvTNut3-",
        "colab_type": "code",
        "colab": {}
      },
      "cell_type": "code",
      "source": [
        "classifiers = ['uniform', 'most frequent', 'stratified', 'constant 0', 'constant 1', 'kNN', 'GaussianNB', 'MLP']"
      ],
      "execution_count": 0,
      "outputs": []
    },
    {
      "metadata": {
        "id": "2oHQr_-gr4am",
        "colab_type": "code",
        "outputId": "42f25e7a-2a32-4b60-d4a5-dff5d49f3e00",
        "colab": {
          "base_uri": "https://localhost:8080/",
          "height": 85
        }
      },
      "cell_type": "code",
      "source": [
        "warnings.filterwarnings('ignore')\n",
        "\n",
        "f1_micro_score = np.zeros((8))\n",
        "f1_micro_score[0] = classification_report(test_labels, preds_uniform, output_dict=True).get('micro avg').get('f1-score')\n",
        "f1_micro_score[1] = classification_report(test_labels, preds_most_frequent, output_dict=True).get('micro avg').get('f1-score')\n",
        "f1_micro_score[2] = classification_report(test_labels, preds_stratified, output_dict=True).get('micro avg').get('f1-score')\n",
        "f1_micro_score[3] = classification_report(test_labels, preds_constant_0, output_dict=True).get('micro avg').get('f1-score')\n",
        "f1_micro_score[4] = classification_report(test_labels, preds_constant_1, output_dict=True).get('micro avg').get('f1-score')\n",
        "f1_micro_score[5] = classification_report(test_labels, preds_knn, output_dict=True).get('micro avg').get('f1-score')\n",
        "f1_micro_score[6] = classification_report(test_labels, preds_gnb, output_dict=True).get('micro avg').get('f1-score')\n",
        "f1_micro_score[7] = classification_report(test_labels, preds_mlp, output_dict=True).get('micro avg').get('f1-score')\n",
        "\n",
        "warnings.filterwarnings('always')\n",
        "\n",
        "print(f1_micro_score)\n",
        "\n",
        "\n",
        "warnings.filterwarnings('ignore')\n",
        "\n",
        "f1_macro_score = np.zeros((8))\n",
        "f1_macro_score[0] = classification_report(test_labels, preds_uniform, output_dict=True).get('macro avg').get('f1-score')\n",
        "f1_macro_score[1] = classification_report(test_labels, preds_most_frequent, output_dict=True).get('macro avg').get('f1-score')\n",
        "f1_macro_score[2] = classification_report(test_labels, preds_stratified, output_dict=True).get('macro avg').get('f1-score')\n",
        "f1_macro_score[3] = classification_report(test_labels, preds_constant_0, output_dict=True).get('macro avg').get('f1-score')\n",
        "f1_macro_score[4] = classification_report(test_labels, preds_constant_1, output_dict=True).get('macro avg').get('f1-score')\n",
        "f1_macro_score[5] = classification_report(test_labels, preds_knn, output_dict=True).get('macro avg').get('f1-score')\n",
        "f1_macro_score[6] = classification_report(test_labels, preds_gnb, output_dict=True).get('macro avg').get('f1-score')\n",
        "f1_macro_score[7] = classification_report(test_labels, preds_mlp, output_dict=True).get('macro avg').get('f1-score')\n",
        "\n",
        "warnings.filterwarnings('always')\n",
        "\n",
        "print(f1_macro_score)\n"
      ],
      "execution_count": 0,
      "outputs": [
        {
          "output_type": "stream",
          "text": [
            "[0.50153586 0.95154354 0.49823376 0.95154354 0.04845646 0.67762249\n",
            " 0.90723391 0.76048226]\n",
            "[0.37173252 0.48758509 0.36829232 0.48758509 0.04621695 0.48313055\n",
            " 0.52413247 0.54739909]\n"
          ],
          "name": "stdout"
        }
      ]
    },
    {
      "metadata": {
        "id": "JcUSrK1jwW2_",
        "colab_type": "code",
        "outputId": "28fe4bf9-ac49-4fb1-8f97-2363ba9919e8",
        "colab": {
          "base_uri": "https://localhost:8080/",
          "height": 735
        }
      },
      "cell_type": "code",
      "source": [
        "plt.bar([0,1,2,3,4,5,6,7], f1_micro_score)\n",
        "plt.xticks([0,1,2,3,4,5,6,7], classifiers)\n",
        "plt.ylabel('score')\n",
        "plt.xlabel('model')\n",
        "plt.title('micro average')\n",
        "plt.show()\n",
        "\n",
        "plt.bar([0,1,2,3,4,5,6,7], f1_macro_score)\n",
        "plt.xticks([0,1,2,3,4,5,6,7], classifiers)\n",
        "plt.ylabel('score')\n",
        "plt.xlabel('model')\n",
        "plt.title('macro average')\n",
        "plt.show()"
      ],
      "execution_count": 0,
      "outputs": [
        {
          "output_type": "display_data",
          "data": {
            "image/png": "[encoded data removed]",
            "text/plain": [
              "<matplotlib.figure.Figure at 0x7fbaff95fa58>"
            ]
          },
          "metadata": {
            "tags": []
          }
        },
        {
          "output_type": "display_data",
          "data": {
            "image/png": "[encoded data removed]",
            "text/plain": [
              "<matplotlib.figure.Figure at 0x7fbafd8eb080>"
            ]
          },
          "metadata": {
            "tags": []
          }
        }
      ]
    },
    {
      "metadata": {
        "id": "Q6nuYxJ236M5",
        "colab_type": "text"
      },
      "cell_type": "markdown",
      "source": [
        "3. Σχολιάστε τα αποτελέσματα των plots και των τιμών precision, recall, f1 των πινάκων σύγχυσης.\n"
      ]
    },
    {
      "metadata": {
        "id": "cmwdOhrc4SBI",
        "colab_type": "text"
      },
      "cell_type": "markdown",
      "source": [
        "# D. Classifier Optimization"
      ]
    },
    {
      "metadata": {
        "id": "EcIe0WLXlN2s",
        "colab_type": "text"
      },
      "cell_type": "markdown",
      "source": [
        "## Macro"
      ]
    },
    {
      "metadata": {
        "id": "cW5UR8oRC72q",
        "colab_type": "text"
      },
      "cell_type": "markdown",
      "source": [
        "### Dummy Classifiers"
      ]
    },
    {
      "metadata": {
        "id": "n7F1eYYxDc3T",
        "colab_type": "code",
        "outputId": "e40e42b7-e359-43c2-e4b6-fc9377cf58b0",
        "colab": {
          "base_uri": "https://localhost:8080/",
          "height": 445
        }
      },
      "cell_type": "code",
      "source": [
        "from sklearn.dummy import DummyClassifier\n",
        "\n",
        "dummy = DummyClassifier()\n",
        "\n",
        "strategies = ['uniform', 'most_frequent', 'stratified', 'constant']\n",
        "constants = [0 , 1]\n",
        "\n",
        "# αρχικοποιούμε τους εκτιμητές (μετασχηματιστές και ταξινομητή) χωρείς παραμέτρους\n",
        "imp = SimpleImputer(missing_values=np.nan, strategy='mean')\n",
        "selector = VarianceThreshold()\n",
        "scaler = StandardScaler()\n",
        "rus = RandomUnderSampler()\n",
        "pca = PCA()\n",
        "\n",
        "pipe = Pipeline(steps=[('imputer', imp), ('selector', selector),  ('scaler', scaler), ('pca', pca),  ('dummy', dummy)])\n",
        "estimator = GridSearchCV(pipe, dict(dummy__strategy=strategies, dummy__constant=constants), cv=5, scoring='f1_macro', n_jobs=-1)\n",
        "\n",
        "warnings.filterwarnings('ignore')\n",
        "\n",
        "start_time = time.time()\n",
        "estimator.fit(train, train_labels)\n",
        "preds_optimized_dummy_macro = estimator.predict(test)\n",
        "\n",
        "print(\"Συνολικός χρόνος fit και predict: %s seconds\" % (time.time() - start_time))\n",
        "print('\\n')\n",
        "print(classification_report(test_labels, preds_optimized_dummy_macro))\n",
        "print('\\n')\n",
        "print(accuracy_score(test_labels, preds_optimized_dummy_macro))\n",
        "print('\\n')\n",
        "print(estimator.best_estimator_)\n",
        "print('\\n')\n",
        "print(estimator.best_params_)\n",
        "\n",
        "warnings.filterwarnings('always')"
      ],
      "execution_count": 32,
      "outputs": [
        {
          "output_type": "stream",
          "text": [
            "Συνολικός χρόνος fit και predict: 13.365394353866577 seconds\n",
            "\n",
            "\n",
            "              precision    recall  f1-score   support\n",
            "\n",
            "           0       0.95      0.95      0.95     12391\n",
            "           1       0.06      0.06      0.06       631\n",
            "\n",
            "   micro avg       0.91      0.91      0.91     13022\n",
            "   macro avg       0.51      0.51      0.51     13022\n",
            "weighted avg       0.91      0.91      0.91     13022\n",
            "\n",
            "\n",
            "\n",
            "0.9077714636768546\n",
            "\n",
            "\n",
            "Pipeline(memory=None,\n",
            "     steps=[('imputer', SimpleImputer(copy=True, fill_value=None, missing_values=nan, strategy='mean',\n",
            "       verbose=0)), ('selector', VarianceThreshold(threshold=0.0)), ('scaler', StandardScaler(copy=True, with_mean=True, with_std=True)), ('pca', PCA(copy=True, iterated_power='auto', n_components=None, random_state=None,\n",
            "  svd_solver='auto', tol=0.0, whiten=False)), ('dummy', DummyClassifier(constant=0, random_state=None, strategy='stratified'))])\n",
            "\n",
            "\n",
            "{'dummy__constant': 0, 'dummy__strategy': 'stratified'}\n"
          ],
          "name": "stdout"
        }
      ]
    },
    {
      "metadata": {
        "id": "oqTCRWDtC752",
        "colab_type": "text"
      },
      "cell_type": "markdown",
      "source": [
        "### KNeighborsClassifier \n"
      ]
    },
    {
      "metadata": {
        "id": "q9E_D7riDm7E",
        "colab_type": "code",
        "colab": {
          "base_uri": "https://localhost:8080/",
          "height": 462
        },
        "outputId": "c1f009ac-5171-4fba-bee0-5ac7a65d968b"
      },
      "cell_type": "code",
      "source": [
        "from sklearn.neighbors import KNeighborsClassifier\n",
        "\n",
        "kNN = KNeighborsClassifier(n_jobs=-1)\n",
        "\n",
        "vthreshold = [0, 1] #προσαρμόζουμε τις τιμές μας στο variance που παρατηρήσαμε\n",
        "n_components = [ 57, 59, None]\n",
        "#αρχικα το Κ ήταν 1, 11 και 21\n",
        "k = [ 35, 41, 45] # η υπερπαράμετρος του ταξινομητή\n",
        "weights = ['uniform', 'distance']\n",
        "#weights = ['distance']\n",
        "metric = ['euclidean', 'manhattan', 'minkowski']\n",
        "#metric = [ 'manhattan']\n",
        "\n",
        "# αρχικοποιούμε τους εκτιμητές (μετασχηματιστές και ταξινομητή) χωρείς παραμέτρους\n",
        "imp = SimpleImputer(missing_values=np.nan, strategy='mean')\n",
        "selector = VarianceThreshold()\n",
        "scaler = StandardScaler()\n",
        "rus = RandomUnderSampler()\n",
        "pca = PCA()\n",
        "\n",
        "pipe = Pipeline(steps=[('imputer', imp),('selector', selector), ('scaler', scaler), ('sampler', rus), ('pca', pca),  ('kNN', kNN)], memory='tmp')\n",
        "estimator = GridSearchCV(pipe, dict(selector__threshold=vthreshold, pca__n_components=n_components, kNN__weights=weights, kNN__metric=metric, kNN__n_neighbors=k), cv=5, scoring='f1_macro', n_jobs=-1)\n",
        "\n",
        "warnings.filterwarnings('ignore')\n",
        "\n",
        "start_time = time.time()\n",
        "estimator.fit(train, train_labels)\n",
        "preds_optimized_knn_macro = estimator.predict(test)\n",
        "\n",
        "print(\"Συνολικός χρόνος fit και predict: %s seconds\" % (time.time() - start_time))\n",
        "print('\\n')\n",
        "print(classification_report(test_labels, preds_optimized_knn_macro))\n",
        "print('\\n')\n",
        "print(accuracy_score(test_labels, preds_optimized_knn_macro))\n",
        "print('\\n')\n",
        "print(estimator.best_estimator_)\n",
        "print('\\n')\n",
        "print(estimator.best_params_)\n",
        "\n",
        "warnings.filterwarnings('always')"
      ],
      "execution_count": 33,
      "outputs": [
        {
          "output_type": "stream",
          "text": [
            "Συνολικός χρόνος fit και predict: 2887.1405465602875 seconds\n",
            "\n",
            "\n",
            "              precision    recall  f1-score   support\n",
            "\n",
            "           0       0.98      0.74      0.84     12391\n",
            "           1       0.12      0.71      0.21       631\n",
            "\n",
            "   micro avg       0.74      0.74      0.74     13022\n",
            "   macro avg       0.55      0.72      0.52     13022\n",
            "weighted avg       0.94      0.74      0.81     13022\n",
            "\n",
            "\n",
            "\n",
            "0.7367531869144525\n",
            "\n",
            "\n",
            "Pipeline(memory='tmp',\n",
            "     steps=[('imputer', SimpleImputer(copy=True, fill_value=None, missing_values=nan, strategy='mean',\n",
            "       verbose=0)), ('selector', VarianceThreshold(threshold=1)), ('scaler', StandardScaler(copy=True, with_mean=True, with_std=True)), ('sampler', RandomUnderSampler(random_state=None, ratio=None, repl...an',\n",
            "           metric_params=None, n_jobs=-1, n_neighbors=45, p=2,\n",
            "           weights='distance'))])\n",
            "\n",
            "\n",
            "{'kNN__metric': 'manhattan', 'kNN__n_neighbors': 45, 'kNN__weights': 'distance', 'pca__n_components': 57, 'selector__threshold': 1}\n"
          ],
          "name": "stdout"
        }
      ]
    },
    {
      "metadata": {
        "id": "k4D24rY50rGl",
        "colab_type": "code",
        "colab": {
          "base_uri": "https://localhost:8080/",
          "height": 513
        },
        "outputId": "95285c00-cf82-49d1-9ef8-c5b93a0abeac"
      },
      "cell_type": "code",
      "source": [
        "# from sklearn.neighbors import KNeighborsClassifier\n",
        "\n",
        "# kNN = KNeighborsClassifier(n_jobs=-1)\n",
        "\n",
        "# vthreshold = [ 0] #προσαρμόζουμε τις τιμές μας στο variance που παρατηρήσαμε\n",
        "# n_components = [ 57]\n",
        "# #αρχικα το Κ ήταν 1, 11 και 21\n",
        "# k =  45 # η υπερπαράμετρος του ταξινομητή\n",
        "# #weights = ['uniform', 'distance']\n",
        "# weights = ['distance']\n",
        "# #metric = ['euclidean', 'manhattan', 'minkowski']\n",
        "# metric = [ 'manhattan']\n",
        "\n",
        "# # αρχικοποιούμε τους εκτιμητές (μετασχηματιστές και ταξινομητή) χωρείς παραμέτρους\n",
        "# imp = SimpleImputer(missing_values=np.nan, strategy='mean')\n",
        "# selector = VarianceThreshold(threshold=1)\n",
        "# scaler = StandardScaler()\n",
        "# pca = PCA()\n",
        "\n",
        "# pipe = Pipeline(steps=[('imputer', imp), ('scaler', scaler), ('selector', selector), ('pca', pca)], memory='tmp')\n",
        "# last_train = pipe.fit_transform(train)\n",
        "# print(last_train.shape)\n",
        "\n",
        "# last_test = pipe.transform(test)\n",
        "# print(last_test.shape)\n",
        "\n",
        "# warnings.filterwarnings('ignore')\n",
        "\n",
        "# start_time = time.time()\n",
        "# knnClf = KNeighborsClassifier(n_neighbors=k, weights='distance',metric='manhattan', n_jobs=-1)\n",
        "# knnClf.fit(last_train, train_labels)\n",
        "# preds_optimized_knn_macro = knnClf.predict(last_test)\n",
        "\n",
        "# print(\"Συνολικός χρόνος fit και predict: %s seconds\" % (time.time() - start_time))\n",
        "# print('\\n')\n",
        "# print(classification_report(test_labels, preds_optimized_knn_macro))\n",
        "# print('\\n')\n",
        "# print(accuracy_score(test_labels, preds_optimized_knn_macro))\n",
        "# print('\\n')\n",
        "# print(estimator.best_estimator_)\n",
        "# print('\\n')\n",
        "# print(estimator.best_params_)\n",
        "\n",
        "# warnings.filterwarnings('always')"
      ],
      "execution_count": 29,
      "outputs": [
        {
          "output_type": "stream",
          "text": [
            "(30383, 31)\n",
            "(13022, 31)\n",
            "Συνολικός χρόνος fit και predict: 15.648621559143066 seconds\n",
            "\n",
            "\n",
            "              precision    recall  f1-score   support\n",
            "\n",
            "           0       0.95      1.00      0.98     12391\n",
            "           1       0.52      0.06      0.11       631\n",
            "\n",
            "   micro avg       0.95      0.95      0.95     13022\n",
            "   macro avg       0.74      0.53      0.54     13022\n",
            "weighted avg       0.93      0.95      0.93     13022\n",
            "\n",
            "\n",
            "\n",
            "0.9517739210566734\n",
            "\n",
            "\n",
            "Pipeline(memory='tmp',\n",
            "     steps=[('imputer', SimpleImputer(copy=True, fill_value=None, missing_values=nan, strategy='mean',\n",
            "       verbose=0)), ('scaler', StandardScaler(copy=True, with_mean=True, with_std=True)), ('sampler', RandomUnderSampler(random_state=None, ratio=None, replacement=False,\n",
            "          return_indices=False,...an',\n",
            "           metric_params=None, n_jobs=-1, n_neighbors=45, p=2,\n",
            "           weights='distance'))])\n",
            "\n",
            "\n",
            "{'kNN__metric': 'manhattan', 'kNN__n_neighbors': 45, 'kNN__weights': 'distance', 'pca__n_components': 57, 'selector__threshold': 0}\n"
          ],
          "name": "stdout"
        }
      ]
    },
    {
      "metadata": {
        "id": "WOmm63NlvsdS",
        "colab_type": "code",
        "outputId": "bd70f8a8-75f7-4aeb-c6bc-899524fcfe41",
        "colab": {
          "base_uri": "https://localhost:8080/",
          "height": 462
        }
      },
      "cell_type": "code",
      "source": [
        "from sklearn.neighbors import KNeighborsClassifier\n",
        "\n",
        "kNN = KNeighborsClassifier(n_jobs=-1)\n",
        "\n",
        "vthreshold = [ 1] #προσαρμόζουμε τις τιμές μας στο variance που παρατηρήσαμε\n",
        "n_components = [ 57]\n",
        "#αρχικα το Κ ήταν 1, 11 και 21\n",
        "k = [  45] # η υπερπαράμετρος του ταξινομητή\n",
        "#weights = ['uniform', 'distance']\n",
        "weights = ['distance']\n",
        "#metric = ['euclidean', 'manhattan', 'minkowski']\n",
        "metric = [ 'manhattan']\n",
        "\n",
        "\n",
        "# αρχικοποιούμε τους εκτιμητές (μετασχηματιστές και ταξινομητή) χωρείς παραμέτρους\n",
        "imp = SimpleImputer(missing_values=np.nan, strategy='mean')\n",
        "selector = VarianceThreshold()\n",
        "scaler = StandardScaler()\n",
        "pca = PCA()\n",
        "\n",
        "\n",
        "pipe = Pipeline(steps=[('imputer', imp), ('selector', selector), ('scaler', scaler), ('pca', pca), ('kNN', kNN)], memory='tmp')\n",
        "estimator = GridSearchCV(pipe, dict(selector__threshold=vthreshold, pca__n_components=n_components, kNN__weights=weights, kNN__metric=metric, kNN__n_neighbors=k), cv=5, scoring='f1_macro', n_jobs=-1)\n",
        "\n",
        "warnings.filterwarnings('ignore')\n",
        "\n",
        "start_time = time.time()\n",
        "estimator.fit(train, train_labels)\n",
        "preds_optimized_knn_macro = estimator.predict(test)\n",
        "\n",
        "print(\"Συνολικός χρόνος fit και predict: %s seconds\" % (time.time() - start_time))\n",
        "print('\\n')\n",
        "print(classification_report(test_labels, preds_optimized_knn_macro))\n",
        "print('\\n')\n",
        "print(accuracy_score(test_labels, preds_optimized_knn_macro))\n",
        "print('\\n')\n",
        "print(estimator.best_estimator_)\n",
        "print('\\n')\n",
        "print(estimator.best_params_)\n",
        "\n",
        "warnings.filterwarnings('always')"
      ],
      "execution_count": 34,
      "outputs": [
        {
          "output_type": "stream",
          "text": [
            "Συνολικός χρόνος fit και predict: 319.77314281463623 seconds\n",
            "\n",
            "\n",
            "              precision    recall  f1-score   support\n",
            "\n",
            "           0       0.95      1.00      0.97     12391\n",
            "           1       0.12      0.01      0.01       631\n",
            "\n",
            "   micro avg       0.95      0.95      0.95     13022\n",
            "   macro avg       0.54      0.50      0.49     13022\n",
            "weighted avg       0.91      0.95      0.93     13022\n",
            "\n",
            "\n",
            "\n",
            "0.9496237137152511\n",
            "\n",
            "\n",
            "Pipeline(memory='tmp',\n",
            "     steps=[('imputer', SimpleImputer(copy=True, fill_value=None, missing_values=nan, strategy='mean',\n",
            "       verbose=0)), ('selector', VarianceThreshold(threshold=1)), ('scaler', StandardScaler(copy=True, with_mean=True, with_std=True)), ('pca', PCA(copy=True, iterated_power='auto', n_components=57, ran...an',\n",
            "           metric_params=None, n_jobs=-1, n_neighbors=45, p=2,\n",
            "           weights='distance'))])\n",
            "\n",
            "\n",
            "{'kNN__metric': 'manhattan', 'kNN__n_neighbors': 45, 'kNN__weights': 'distance', 'pca__n_components': 57, 'selector__threshold': 1}\n"
          ],
          "name": "stdout"
        }
      ]
    },
    {
      "metadata": {
        "id": "2Rz59DXZC79X",
        "colab_type": "text"
      },
      "cell_type": "markdown",
      "source": [
        "### Gaussian Naive Bayes"
      ]
    },
    {
      "metadata": {
        "id": "yRXOZFLIDr-f",
        "colab_type": "code",
        "colab": {
          "base_uri": "https://localhost:8080/",
          "height": 428
        },
        "outputId": "a228c5bc-65ec-4dd7-8a40-49c322cc76f6"
      },
      "cell_type": "code",
      "source": [
        "from sklearn.naive_bayes import GaussianNB\n",
        "\n",
        "gNB = GaussianNB()\n",
        "\n",
        "vthreshold = [0, 0.6, 1] #προσαρμόζουμε τις τιμές μας στο variance που παρατηρήσαμε\n",
        "n_components = [ 55, 57, 59, None]\n",
        "\n",
        "# αρχικοποιούμε τους εκτιμητές (μετασχηματιστές και ταξινομητή) χωρείς παραμέτρους\n",
        "imp = SimpleImputer(missing_values=np.nan, strategy='mean')\n",
        "selector = VarianceThreshold()\n",
        "scaler = StandardScaler()\n",
        "rus = RandomUnderSampler()\n",
        "pca = PCA()\n",
        "\n",
        "pipe = Pipeline(steps=[('imputer', imp), ('selector', selector), ('scaler', scaler), ('sampler', rus), ('pca', pca), ('gnb', gNB)], memory='tmp')\n",
        "estimator = GridSearchCV(pipe, dict(selector__threshold=vthreshold, pca__n_components=n_components), cv=5, scoring='f1_macro', n_jobs=-1)\n",
        "\n",
        "warnings.filterwarnings('ignore')\n",
        "\n",
        "start_time = time.time()\n",
        "estimator.fit(train, train_labels)\n",
        "preds_optimized_gnb_macro = estimator.predict(test)\n",
        "\n",
        "print(\"Συνολικός χρόνος fit και predict: %s seconds\" % (time.time() - start_time))\n",
        "print('\\n')\n",
        "print(classification_report(test_labels, preds_optimized_gnb_macro))\n",
        "print('\\n')\n",
        "print(accuracy_score(test_labels, preds_optimized_gnb_macro))\n",
        "print('\\n')\n",
        "print(estimator.best_estimator_)\n",
        "print('\\n')\n",
        "print(estimator.best_params_)\n",
        "\n",
        "warnings.filterwarnings('always')"
      ],
      "execution_count": 35,
      "outputs": [
        {
          "output_type": "stream",
          "text": [
            "Συνολικός χρόνος fit και predict: 13.714760541915894 seconds\n",
            "\n",
            "\n",
            "              precision    recall  f1-score   support\n",
            "\n",
            "           0       0.95      0.95      0.95     12391\n",
            "           1       0.06      0.07      0.07       631\n",
            "\n",
            "   micro avg       0.91      0.91      0.91     13022\n",
            "   macro avg       0.51      0.51      0.51     13022\n",
            "weighted avg       0.91      0.91      0.91     13022\n",
            "\n",
            "\n",
            "\n",
            "0.9078482567961911\n",
            "\n",
            "\n",
            "Pipeline(memory='tmp',\n",
            "     steps=[('imputer', SimpleImputer(copy=True, fill_value=None, missing_values=nan, strategy='mean',\n",
            "       verbose=0)), ('selector', VarianceThreshold(threshold=0)), ('scaler', StandardScaler(copy=True, with_mean=True, with_std=True)), ('sampler', RandomUnderSampler(random_state=None, ratio=None, repl...  svd_solver='auto', tol=0.0, whiten=False)), ('gnb', GaussianNB(priors=None, var_smoothing=1e-09))])\n",
            "\n",
            "\n",
            "{'pca__n_components': 57, 'selector__threshold': 0}\n"
          ],
          "name": "stdout"
        }
      ]
    },
    {
      "metadata": {
        "id": "cP_4NeVtv70I",
        "colab_type": "code",
        "colab": {
          "base_uri": "https://localhost:8080/",
          "height": 445
        },
        "outputId": "b2e3204e-3673-4114-bba9-f9ebce08afed"
      },
      "cell_type": "code",
      "source": [
        "from sklearn.naive_bayes import GaussianNB\n",
        "\n",
        "gNB = GaussianNB()\n",
        "\n",
        "vthreshold = [0] #προσαρμόζουμε τις τιμές μας στο variance που παρατηρήσαμε\n",
        "n_components = [ 57]\n",
        "\n",
        "# αρχικοποιούμε τους εκτιμητές (μετασχηματιστές και ταξινομητή) χωρείς παραμέτρους\n",
        "imp = SimpleImputer(missing_values=np.nan, strategy='mean')\n",
        "selector = VarianceThreshold()\n",
        "scaler = StandardScaler()\n",
        "rus = RandomUnderSampler()\n",
        "pca = PCA()\n",
        "\n",
        "pipe = Pipeline(steps=[('imputer', imp), ('selector', selector), ('scaler', scaler), ('pca', pca), ('gnb', gNB)], memory='tmp')\n",
        "estimator = GridSearchCV(pipe, dict(selector__threshold=vthreshold, pca__n_components=n_components), cv=5, scoring='f1_macro', n_jobs=-1)\n",
        "\n",
        "warnings.filterwarnings('ignore')\n",
        "\n",
        "start_time = time.time()\n",
        "estimator.fit(train, train_labels)\n",
        "preds_optimized_gnb_macro = estimator.predict(test)\n",
        "\n",
        "print(\"Συνολικός χρόνος fit και predict: %s seconds\" % (time.time() - start_time))\n",
        "print('\\n')\n",
        "print(classification_report(test_labels, preds_optimized_gnb_macro))\n",
        "print('\\n')\n",
        "print(accuracy_score(test_labels, preds_optimized_gnb_macro))\n",
        "print('\\n')\n",
        "print(estimator.best_estimator_)\n",
        "print('\\n')\n",
        "print(estimator.best_params_)\n",
        "\n",
        "warnings.filterwarnings('always')"
      ],
      "execution_count": 36,
      "outputs": [
        {
          "output_type": "stream",
          "text": [
            "Συνολικός χρόνος fit και predict: 1.1858692169189453 seconds\n",
            "\n",
            "\n",
            "              precision    recall  f1-score   support\n",
            "\n",
            "           0       0.97      0.04      0.09     12391\n",
            "           1       0.05      0.97      0.09       631\n",
            "\n",
            "   micro avg       0.09      0.09      0.09     13022\n",
            "   macro avg       0.51      0.51      0.09     13022\n",
            "weighted avg       0.92      0.09      0.09     13022\n",
            "\n",
            "\n",
            "\n",
            "0.08938719090769467\n",
            "\n",
            "\n",
            "Pipeline(memory='tmp',\n",
            "     steps=[('imputer', SimpleImputer(copy=True, fill_value=None, missing_values=nan, strategy='mean',\n",
            "       verbose=0)), ('selector', VarianceThreshold(threshold=0)), ('scaler', StandardScaler(copy=True, with_mean=True, with_std=True)), ('pca', PCA(copy=True, iterated_power='auto', n_components=57, random_state=None,\n",
            "  svd_solver='auto', tol=0.0, whiten=False)), ('gnb', GaussianNB(priors=None, var_smoothing=1e-09))])\n",
            "\n",
            "\n",
            "{'pca__n_components': 57, 'selector__threshold': 0}\n"
          ],
          "name": "stdout"
        }
      ]
    },
    {
      "metadata": {
        "id": "uR3j2F1BC8Aq",
        "colab_type": "text"
      },
      "cell_type": "markdown",
      "source": [
        "### MLP\n"
      ]
    },
    {
      "metadata": {
        "id": "01ZDF2utC46x",
        "colab_type": "code",
        "outputId": "37f22615-e214-4403-886a-c1e5d28a51fb",
        "colab": {
          "base_uri": "https://localhost:8080/",
          "height": 1183
        }
      },
      "cell_type": "code",
      "source": [
        "from sklearn.neural_network import MLPClassifier\n",
        "\n",
        "MLP = MLPClassifier()\n",
        "\n",
        "hidden_layer_sizes = [ (30,) , (40,), (50,)]\n",
        "activation = [ 'logistic', 'relu'] # tanh περιπου ίδια με sigmoid αλλά έχει μεγαλύτερη κλίση συνεπώς είναι πιο αργή και υπάρχει κίνδυνος μηδενισμού της παραγώγου.\n",
        "#                                    ο κίνδυνος αυτός είναι μικρότερος με τη logistic\n",
        "#                                   έχουμε βάλει 2 μια γραμμική και μια μη γραμμική, ώστε να λάβουμε και τις 2 περιπτώσεις κατά νου\n",
        "#activation = ['relu']\n",
        "solver = ['adam'] #Aπό το documentation προτιμούμε adam λόγο μεγένθους set\n",
        "max_iter = [ 500, 1000]\n",
        "learning_rate = ['constant', 'adaptive']  \n",
        "#learning_rate = [  'invscaling'] αποκλείσαμε το invscaling γιατί το adaptive περιέχει χαρακτηριστικά και των 2\n",
        "#                                      επίσης το invscaling είναι πολύ αργό\n",
        "alpha = [0.0001,0.0009]\n",
        "\n",
        "\n",
        "\n",
        "vthreshold = [0, 0.5] #προσαρμόζουμε τις τιμές μας στο variance που παρατηρήσαμε\n",
        "n_components = [ 57, 59, None]\n",
        "\n",
        "\n",
        "# αρχικοποιούμε τους εκτιμητές (μετασχηματιστές και ταξινομητή) χωρείς παραμέτρους\n",
        "imp = SimpleImputer(missing_values=np.nan, strategy='mean')\n",
        "selector = VarianceThreshold()\n",
        "scaler = StandardScaler()\n",
        "rus = RandomUnderSampler()\n",
        "pca = PCA()\n",
        "\n",
        "pipe = Pipeline(steps=[('imputer', imp), ('selector', selector), ('scaler', scaler), ('sampler', rus), ('pca', pca), ('mlp', MLP)], memory='tmp')\n",
        "estimator = GridSearchCV(pipe, dict(selector__threshold=vthreshold, pca__n_components=n_components, mlp__hidden_layer_sizes=hidden_layer_sizes, mlp__activation=activation,\n",
        "                                    mlp__solver=solver, mlp__max_iter=max_iter, mlp__learning_rate=learning_rate, mlp__alpha=alpha), cv=5, scoring='f1_macro', n_jobs=-1)\n",
        "\n",
        "warnings.filterwarnings('ignore')\n",
        "\n",
        "start_time = time.time()\n",
        "estimator.fit(train, train_labels)\n",
        "preds_optimized_mlp_macro = estimator.predict(test)\n",
        "\n",
        "print(\"Συνολικός χρόνος fit και predict: %s seconds\" % (time.time() - start_time))\n",
        "print('\\n')\n",
        "print(classification_report(test_labels, preds_optimized_mlp_macro))\n",
        "print('\\n')\n",
        "print(accuracy_score(test_labels, preds_optimized_mlp_macro))\n",
        "print('\\n')\n",
        "print(estimator.best_estimator_)\n",
        "print('\\n')\n",
        "print(estimator.best_params_)\n",
        "\n",
        "warnings.filterwarnings('always')"
      ],
      "execution_count": 44,
      "outputs": [
        {
          "output_type": "error",
          "ename": "KeyboardInterrupt",
          "evalue": "ignored",
          "traceback": [
            "\u001b[0;31m---------------------------------------------------------------------------\u001b[0m",
            "\u001b[0;31mKeyboardInterrupt\u001b[0m                         Traceback (most recent call last)",
            "\u001b[0;32m<ipython-input-44-a1cdf81064fd>\u001b[0m in \u001b[0;36m<module>\u001b[0;34m()\u001b[0m\n\u001b[1;32m     35\u001b[0m \u001b[0;34m\u001b[0m\u001b[0m\n\u001b[1;32m     36\u001b[0m \u001b[0mstart_time\u001b[0m \u001b[0;34m=\u001b[0m \u001b[0mtime\u001b[0m\u001b[0;34m.\u001b[0m\u001b[0mtime\u001b[0m\u001b[0;34m(\u001b[0m\u001b[0;34m)\u001b[0m\u001b[0;34m\u001b[0m\u001b[0;34m\u001b[0m\u001b[0m\n\u001b[0;32m---> 37\u001b[0;31m \u001b[0mestimator\u001b[0m\u001b[0;34m.\u001b[0m\u001b[0mfit\u001b[0m\u001b[0;34m(\u001b[0m\u001b[0mtrain\u001b[0m\u001b[0;34m,\u001b[0m \u001b[0mtrain_labels\u001b[0m\u001b[0;34m)\u001b[0m\u001b[0;34m\u001b[0m\u001b[0;34m\u001b[0m\u001b[0m\n\u001b[0m\u001b[1;32m     38\u001b[0m \u001b[0mpreds_optimized_mlp_macro\u001b[0m \u001b[0;34m=\u001b[0m \u001b[0mestimator\u001b[0m\u001b[0;34m.\u001b[0m\u001b[0mpredict\u001b[0m\u001b[0;34m(\u001b[0m\u001b[0mtest\u001b[0m\u001b[0;34m)\u001b[0m\u001b[0;34m\u001b[0m\u001b[0;34m\u001b[0m\u001b[0m\n\u001b[1;32m     39\u001b[0m \u001b[0;34m\u001b[0m\u001b[0m\n",
            "\u001b[0;32m/usr/local/lib/python3.6/dist-packages/sklearn/model_selection/_search.py\u001b[0m in \u001b[0;36mfit\u001b[0;34m(self, X, y, groups, **fit_params)\u001b[0m\n\u001b[1;32m    720\u001b[0m                 \u001b[0;32mreturn\u001b[0m \u001b[0mresults_container\u001b[0m\u001b[0;34m[\u001b[0m\u001b[0;36m0\u001b[0m\u001b[0;34m]\u001b[0m\u001b[0;34m\u001b[0m\u001b[0;34m\u001b[0m\u001b[0m\n\u001b[1;32m    721\u001b[0m \u001b[0;34m\u001b[0m\u001b[0m\n\u001b[0;32m--> 722\u001b[0;31m             \u001b[0mself\u001b[0m\u001b[0;34m.\u001b[0m\u001b[0m_run_search\u001b[0m\u001b[0;34m(\u001b[0m\u001b[0mevaluate_candidates\u001b[0m\u001b[0;34m)\u001b[0m\u001b[0;34m\u001b[0m\u001b[0;34m\u001b[0m\u001b[0m\n\u001b[0m\u001b[1;32m    723\u001b[0m \u001b[0;34m\u001b[0m\u001b[0m\n\u001b[1;32m    724\u001b[0m         \u001b[0mresults\u001b[0m \u001b[0;34m=\u001b[0m \u001b[0mresults_container\u001b[0m\u001b[0;34m[\u001b[0m\u001b[0;36m0\u001b[0m\u001b[0;34m]\u001b[0m\u001b[0;34m\u001b[0m\u001b[0;34m\u001b[0m\u001b[0m\n",
            "\u001b[0;32m/usr/local/lib/python3.6/dist-packages/sklearn/model_selection/_search.py\u001b[0m in \u001b[0;36m_run_search\u001b[0;34m(self, evaluate_candidates)\u001b[0m\n\u001b[1;32m   1189\u001b[0m     \u001b[0;32mdef\u001b[0m \u001b[0m_run_search\u001b[0m\u001b[0;34m(\u001b[0m\u001b[0mself\u001b[0m\u001b[0;34m,\u001b[0m \u001b[0mevaluate_candidates\u001b[0m\u001b[0;34m)\u001b[0m\u001b[0;34m:\u001b[0m\u001b[0;34m\u001b[0m\u001b[0;34m\u001b[0m\u001b[0m\n\u001b[1;32m   1190\u001b[0m         \u001b[0;34m\"\"\"Search all candidates in param_grid\"\"\"\u001b[0m\u001b[0;34m\u001b[0m\u001b[0;34m\u001b[0m\u001b[0m\n\u001b[0;32m-> 1191\u001b[0;31m         \u001b[0mevaluate_candidates\u001b[0m\u001b[0;34m(\u001b[0m\u001b[0mParameterGrid\u001b[0m\u001b[0;34m(\u001b[0m\u001b[0mself\u001b[0m\u001b[0;34m.\u001b[0m\u001b[0mparam_grid\u001b[0m\u001b[0;34m)\u001b[0m\u001b[0;34m)\u001b[0m\u001b[0;34m\u001b[0m\u001b[0;34m\u001b[0m\u001b[0m\n\u001b[0m\u001b[1;32m   1192\u001b[0m \u001b[0;34m\u001b[0m\u001b[0m\n\u001b[1;32m   1193\u001b[0m \u001b[0;34m\u001b[0m\u001b[0m\n",
            "\u001b[0;32m/usr/local/lib/python3.6/dist-packages/sklearn/model_selection/_search.py\u001b[0m in \u001b[0;36mevaluate_candidates\u001b[0;34m(candidate_params)\u001b[0m\n\u001b[1;32m    709\u001b[0m                                \u001b[0;32mfor\u001b[0m \u001b[0mparameters\u001b[0m\u001b[0;34m,\u001b[0m \u001b[0;34m(\u001b[0m\u001b[0mtrain\u001b[0m\u001b[0;34m,\u001b[0m \u001b[0mtest\u001b[0m\u001b[0;34m)\u001b[0m\u001b[0;34m\u001b[0m\u001b[0;34m\u001b[0m\u001b[0m\n\u001b[1;32m    710\u001b[0m                                in product(candidate_params,\n\u001b[0;32m--> 711\u001b[0;31m                                           cv.split(X, y, groups)))\n\u001b[0m\u001b[1;32m    712\u001b[0m \u001b[0;34m\u001b[0m\u001b[0m\n\u001b[1;32m    713\u001b[0m                 \u001b[0mall_candidate_params\u001b[0m\u001b[0;34m.\u001b[0m\u001b[0mextend\u001b[0m\u001b[0;34m(\u001b[0m\u001b[0mcandidate_params\u001b[0m\u001b[0;34m)\u001b[0m\u001b[0;34m\u001b[0m\u001b[0;34m\u001b[0m\u001b[0m\n",
            "\u001b[0;32m/usr/local/lib/python3.6/dist-packages/sklearn/externals/joblib/parallel.py\u001b[0m in \u001b[0;36m__call__\u001b[0;34m(self, iterable)\u001b[0m\n\u001b[1;32m    928\u001b[0m \u001b[0;34m\u001b[0m\u001b[0m\n\u001b[1;32m    929\u001b[0m             \u001b[0;32mwith\u001b[0m \u001b[0mself\u001b[0m\u001b[0;34m.\u001b[0m\u001b[0m_backend\u001b[0m\u001b[0;34m.\u001b[0m\u001b[0mretrieval_context\u001b[0m\u001b[0;34m(\u001b[0m\u001b[0;34m)\u001b[0m\u001b[0;34m:\u001b[0m\u001b[0;34m\u001b[0m\u001b[0;34m\u001b[0m\u001b[0m\n\u001b[0;32m--> 930\u001b[0;31m                 \u001b[0mself\u001b[0m\u001b[0;34m.\u001b[0m\u001b[0mretrieve\u001b[0m\u001b[0;34m(\u001b[0m\u001b[0;34m)\u001b[0m\u001b[0;34m\u001b[0m\u001b[0;34m\u001b[0m\u001b[0m\n\u001b[0m\u001b[1;32m    931\u001b[0m             \u001b[0;31m# Make sure that we get a last message telling us we are done\u001b[0m\u001b[0;34m\u001b[0m\u001b[0;34m\u001b[0m\u001b[0;34m\u001b[0m\u001b[0m\n\u001b[1;32m    932\u001b[0m             \u001b[0melapsed_time\u001b[0m \u001b[0;34m=\u001b[0m \u001b[0mtime\u001b[0m\u001b[0;34m.\u001b[0m\u001b[0mtime\u001b[0m\u001b[0;34m(\u001b[0m\u001b[0;34m)\u001b[0m \u001b[0;34m-\u001b[0m \u001b[0mself\u001b[0m\u001b[0;34m.\u001b[0m\u001b[0m_start_time\u001b[0m\u001b[0;34m\u001b[0m\u001b[0;34m\u001b[0m\u001b[0m\n",
            "\u001b[0;32m/usr/local/lib/python3.6/dist-packages/sklearn/externals/joblib/parallel.py\u001b[0m in \u001b[0;36mretrieve\u001b[0;34m(self)\u001b[0m\n\u001b[1;32m    831\u001b[0m             \u001b[0;32mtry\u001b[0m\u001b[0;34m:\u001b[0m\u001b[0;34m\u001b[0m\u001b[0;34m\u001b[0m\u001b[0m\n\u001b[1;32m    832\u001b[0m                 \u001b[0;32mif\u001b[0m \u001b[0mgetattr\u001b[0m\u001b[0;34m(\u001b[0m\u001b[0mself\u001b[0m\u001b[0;34m.\u001b[0m\u001b[0m_backend\u001b[0m\u001b[0;34m,\u001b[0m \u001b[0;34m'supports_timeout'\u001b[0m\u001b[0;34m,\u001b[0m \u001b[0;32mFalse\u001b[0m\u001b[0;34m)\u001b[0m\u001b[0;34m:\u001b[0m\u001b[0;34m\u001b[0m\u001b[0;34m\u001b[0m\u001b[0m\n\u001b[0;32m--> 833\u001b[0;31m                     \u001b[0mself\u001b[0m\u001b[0;34m.\u001b[0m\u001b[0m_output\u001b[0m\u001b[0;34m.\u001b[0m\u001b[0mextend\u001b[0m\u001b[0;34m(\u001b[0m\u001b[0mjob\u001b[0m\u001b[0;34m.\u001b[0m\u001b[0mget\u001b[0m\u001b[0;34m(\u001b[0m\u001b[0mtimeout\u001b[0m\u001b[0;34m=\u001b[0m\u001b[0mself\u001b[0m\u001b[0;34m.\u001b[0m\u001b[0mtimeout\u001b[0m\u001b[0;34m)\u001b[0m\u001b[0;34m)\u001b[0m\u001b[0;34m\u001b[0m\u001b[0;34m\u001b[0m\u001b[0m\n\u001b[0m\u001b[1;32m    834\u001b[0m                 \u001b[0;32melse\u001b[0m\u001b[0;34m:\u001b[0m\u001b[0;34m\u001b[0m\u001b[0;34m\u001b[0m\u001b[0m\n\u001b[1;32m    835\u001b[0m                     \u001b[0mself\u001b[0m\u001b[0;34m.\u001b[0m\u001b[0m_output\u001b[0m\u001b[0;34m.\u001b[0m\u001b[0mextend\u001b[0m\u001b[0;34m(\u001b[0m\u001b[0mjob\u001b[0m\u001b[0;34m.\u001b[0m\u001b[0mget\u001b[0m\u001b[0;34m(\u001b[0m\u001b[0;34m)\u001b[0m\u001b[0;34m)\u001b[0m\u001b[0;34m\u001b[0m\u001b[0;34m\u001b[0m\u001b[0m\n",
            "\u001b[0;32m/usr/local/lib/python3.6/dist-packages/sklearn/externals/joblib/_parallel_backends.py\u001b[0m in \u001b[0;36mwrap_future_result\u001b[0;34m(future, timeout)\u001b[0m\n\u001b[1;32m    519\u001b[0m         AsyncResults.get from multiprocessing.\"\"\"\n\u001b[1;32m    520\u001b[0m         \u001b[0;32mtry\u001b[0m\u001b[0;34m:\u001b[0m\u001b[0;34m\u001b[0m\u001b[0;34m\u001b[0m\u001b[0m\n\u001b[0;32m--> 521\u001b[0;31m             \u001b[0;32mreturn\u001b[0m \u001b[0mfuture\u001b[0m\u001b[0;34m.\u001b[0m\u001b[0mresult\u001b[0m\u001b[0;34m(\u001b[0m\u001b[0mtimeout\u001b[0m\u001b[0;34m=\u001b[0m\u001b[0mtimeout\u001b[0m\u001b[0;34m)\u001b[0m\u001b[0;34m\u001b[0m\u001b[0;34m\u001b[0m\u001b[0m\n\u001b[0m\u001b[1;32m    522\u001b[0m         \u001b[0;32mexcept\u001b[0m \u001b[0mLokyTimeoutError\u001b[0m\u001b[0;34m:\u001b[0m\u001b[0;34m\u001b[0m\u001b[0;34m\u001b[0m\u001b[0m\n\u001b[1;32m    523\u001b[0m             \u001b[0;32mraise\u001b[0m \u001b[0mTimeoutError\u001b[0m\u001b[0;34m(\u001b[0m\u001b[0;34m)\u001b[0m\u001b[0;34m\u001b[0m\u001b[0;34m\u001b[0m\u001b[0m\n",
            "\u001b[0;32m/usr/lib/python3.6/concurrent/futures/_base.py\u001b[0m in \u001b[0;36mresult\u001b[0;34m(self, timeout)\u001b[0m\n\u001b[1;32m    425\u001b[0m                 \u001b[0;32mreturn\u001b[0m \u001b[0mself\u001b[0m\u001b[0;34m.\u001b[0m\u001b[0m__get_result\u001b[0m\u001b[0;34m(\u001b[0m\u001b[0;34m)\u001b[0m\u001b[0;34m\u001b[0m\u001b[0;34m\u001b[0m\u001b[0m\n\u001b[1;32m    426\u001b[0m \u001b[0;34m\u001b[0m\u001b[0m\n\u001b[0;32m--> 427\u001b[0;31m             \u001b[0mself\u001b[0m\u001b[0;34m.\u001b[0m\u001b[0m_condition\u001b[0m\u001b[0;34m.\u001b[0m\u001b[0mwait\u001b[0m\u001b[0;34m(\u001b[0m\u001b[0mtimeout\u001b[0m\u001b[0;34m)\u001b[0m\u001b[0;34m\u001b[0m\u001b[0;34m\u001b[0m\u001b[0m\n\u001b[0m\u001b[1;32m    428\u001b[0m \u001b[0;34m\u001b[0m\u001b[0m\n\u001b[1;32m    429\u001b[0m             \u001b[0;32mif\u001b[0m \u001b[0mself\u001b[0m\u001b[0;34m.\u001b[0m\u001b[0m_state\u001b[0m \u001b[0;32min\u001b[0m \u001b[0;34m[\u001b[0m\u001b[0mCANCELLED\u001b[0m\u001b[0;34m,\u001b[0m \u001b[0mCANCELLED_AND_NOTIFIED\u001b[0m\u001b[0;34m]\u001b[0m\u001b[0;34m:\u001b[0m\u001b[0;34m\u001b[0m\u001b[0;34m\u001b[0m\u001b[0m\n",
            "\u001b[0;32m/usr/lib/python3.6/threading.py\u001b[0m in \u001b[0;36mwait\u001b[0;34m(self, timeout)\u001b[0m\n\u001b[1;32m    293\u001b[0m         \u001b[0;32mtry\u001b[0m\u001b[0;34m:\u001b[0m    \u001b[0;31m# restore state no matter what (e.g., KeyboardInterrupt)\u001b[0m\u001b[0;34m\u001b[0m\u001b[0;34m\u001b[0m\u001b[0m\n\u001b[1;32m    294\u001b[0m             \u001b[0;32mif\u001b[0m \u001b[0mtimeout\u001b[0m \u001b[0;32mis\u001b[0m \u001b[0;32mNone\u001b[0m\u001b[0;34m:\u001b[0m\u001b[0;34m\u001b[0m\u001b[0;34m\u001b[0m\u001b[0m\n\u001b[0;32m--> 295\u001b[0;31m                 \u001b[0mwaiter\u001b[0m\u001b[0;34m.\u001b[0m\u001b[0macquire\u001b[0m\u001b[0;34m(\u001b[0m\u001b[0;34m)\u001b[0m\u001b[0;34m\u001b[0m\u001b[0;34m\u001b[0m\u001b[0m\n\u001b[0m\u001b[1;32m    296\u001b[0m                 \u001b[0mgotit\u001b[0m \u001b[0;34m=\u001b[0m \u001b[0;32mTrue\u001b[0m\u001b[0;34m\u001b[0m\u001b[0;34m\u001b[0m\u001b[0m\n\u001b[1;32m    297\u001b[0m             \u001b[0;32melse\u001b[0m\u001b[0;34m:\u001b[0m\u001b[0;34m\u001b[0m\u001b[0;34m\u001b[0m\u001b[0m\n",
            "\u001b[0;31mKeyboardInterrupt\u001b[0m: "
          ]
        }
      ]
    },
    {
      "metadata": {
        "id": "WZTZCYrFVG6j",
        "colab_type": "code",
        "outputId": "a786b4f5-6813-4d37-96e0-a83b7c958a95",
        "colab": {
          "base_uri": "https://localhost:8080/",
          "height": 479
        }
      },
      "cell_type": "code",
      "source": [
        "from sklearn.neural_network import MLPClassifier\n",
        "\n",
        "MLP = MLPClassifier()\n",
        "\n",
        "hidden_layer_sizes = (40,)\n",
        "# activation = ['identity', 'logistic', 'tanh', 'relu']\n",
        "activation = 'relu'\n",
        "solver = 'adam' #Aπό το documentation προτιμούμε adam λόγο μεγένθους set\n",
        "max_iter =   2000\n",
        "# learning_rate = ['constant', 'invscaling', 'adaptive']\n",
        "learning_rate =  'adaptive'\n",
        "\n",
        "alpha = 0.00009\n",
        "\n",
        "\n",
        "\n",
        "vthreshold = [0] #προσαρμόζουμε τις τιμές μας στο variance που παρατηρήσαμε\n",
        "n_components = [ 57]\n",
        "\n",
        "\n",
        "# αρχικοποιούμε τους εκτιμητές (μετασχηματιστές και ταξινομητή) χωρείς παραμέτρους\n",
        "imp = SimpleImputer(missing_values=np.nan, strategy='mean')\n",
        "selector = VarianceThreshold()\n",
        "scaler = StandardScaler()\n",
        "rus = RandomUnderSampler()\n",
        "pca = PCA()\n",
        "\n",
        "\n",
        "pipe = Pipeline(steps=[('imputer', imp), ('selector', selector), ('scaler', scaler), ('pca', pca)], memory='tmp')\n",
        "last_train = pipe.fit_transform(train)\n",
        "print(last_train.shape)\n",
        "\n",
        "last_test = pipe.transform(test)\n",
        "print(last_test.shape)\n",
        "\n",
        "warnings.filterwarnings('ignore')\n",
        "\n",
        "start_time = time.time()\n",
        "mlpClf = MLPClassifier(hidden_layer_sizes=hidden_layer_sizes, activation=activation,solver=solver, max_iter=max_iter, learning_rate=learning_rate, alpha=alpha)\n",
        "\n",
        "\n",
        "mlpClf.fit(last_train, train_labels)\n",
        "preds_optimized_mlp_macro = mlpClf.predict(last_test)\n",
        "\n",
        "print(\"Συνολικός χρόνος fit και predict: %s seconds\" % (time.time() - start_time))\n",
        "print('\\n')\n",
        "print(classification_report(test_labels, preds_optimized_mlp_macro))\n",
        "print('\\n')\n",
        "print(accuracy_score(test_labels, preds_optimized_mlp_macro))\n",
        "print('\\n')\n",
        "print(estimator.best_estimator_)\n",
        "print('\\n')\n",
        "print(estimator.best_params_)\n",
        "\n",
        "warnings.filterwarnings('always')"
      ],
      "execution_count": 0,
      "outputs": [
        {
          "output_type": "stream",
          "text": [
            "(30383, 64)\n",
            "(13022, 64)\n",
            "Συνολικός χρόνος fit και predict: 39.504456996917725 seconds\n",
            "\n",
            "\n",
            "              precision    recall  f1-score   support\n",
            "\n",
            "           0       0.95      1.00      0.97     12391\n",
            "           1       0.17      0.01      0.02       631\n",
            "\n",
            "   micro avg       0.95      0.95      0.95     13022\n",
            "   macro avg       0.56      0.50      0.50     13022\n",
            "weighted avg       0.91      0.95      0.93     13022\n",
            "\n",
            "\n",
            "\n",
            "0.9497005068345876\n",
            "\n",
            "\n",
            "Pipeline(memory='tmp',\n",
            "     steps=[('imputer', SimpleImputer(copy=True, fill_value=None, missing_values=nan, strategy='mean',\n",
            "       verbose=0)), ('selector', VarianceThreshold(threshold=0)), ('scaler', StandardScaler(copy=True, with_mean=True, with_std=True)), ('pca', PCA(copy=True, iterated_power='auto', n_components=57, ran...=True, solver='adam', tol=0.0001,\n",
            "       validation_fraction=0.1, verbose=False, warm_start=False))])\n",
            "\n",
            "\n",
            "{'mlp__activation': 'relu', 'mlp__alpha': 9e-05, 'mlp__hidden_layer_sizes': (40,), 'mlp__learning_rate': 'adaptive', 'mlp__max_iter': 2000, 'mlp__solver': 'adam', 'pca__n_components': 57, 'selector__threshold': 0}\n"
          ],
          "name": "stdout"
        }
      ]
    },
    {
      "metadata": {
        "id": "1xZw5O78jCD_",
        "colab_type": "code",
        "outputId": "ec74f891-fc3e-43a4-f8e2-8f3f3618beff",
        "colab": {
          "base_uri": "https://localhost:8080/",
          "height": 445
        }
      },
      "cell_type": "code",
      "source": [
        "from sklearn.neural_network import MLPClassifier\n",
        "\n",
        "MLP = MLPClassifier()\n",
        "\n",
        "hidden_layer_sizes = [ (40,)]\n",
        "# activation = ['identity', 'logistic', 'tanh', 'relu']\n",
        "activation = ['relu']\n",
        "solver = ['adam'] #Aπό το documentation προτιμούμε adam λόγο μεγένθους set\n",
        "max_iter = [  2000]\n",
        "# learning_rate = ['constant', 'invscaling', 'adaptive']\n",
        "learning_rate = [  'adaptive']\n",
        "\n",
        "alpha = [0.00009]\n",
        "\n",
        "\n",
        "\n",
        "vthreshold = [0] #προσαρμόζουμε τις τιμές μας στο variance που παρατηρήσαμε\n",
        "n_components = [ 57]\n",
        "\n",
        "\n",
        "# αρχικοποιούμε τους εκτιμητές (μετασχηματιστές και ταξινομητή) χωρείς παραμέτρους\n",
        "imp = SimpleImputer(missing_values=np.nan, strategy='mean')\n",
        "selector = VarianceThreshold()\n",
        "scaler = StandardScaler()\n",
        "rus = RandomOverSampler()\n",
        "pca = PCA()\n",
        "\n",
        "pipe = Pipeline(steps=[('imputer', imp),('selector', selector),  ('scaler', scaler), ('pca', pca), ('mlp', MLP)], memory='tmp')\n",
        "estimator = GridSearchCV(pipe, dict(selector__threshold=vthreshold, pca__n_components=n_components, mlp__hidden_layer_sizes=hidden_layer_sizes, mlp__activation=activation,\n",
        "                                    mlp__solver=solver, mlp__max_iter=max_iter, mlp__learning_rate=learning_rate, mlp__alpha=alpha), cv=5, scoring='f1_macro', n_jobs=-1)\n",
        "\n",
        "warnings.filterwarnings('ignore')\n",
        "\n",
        "start_time = time.time()\n",
        "estimator.fit(train, train_labels)\n",
        "preds_optimized_mlp_macro = estimator.predict(test)\n",
        "\n",
        "print(\"Συνολικός χρόνος fit και predict: %s seconds\" % (time.time() - start_time))\n",
        "print('\\n')\n",
        "print(classification_report(test_labels, preds_optimized_mlp_macro))\n",
        "print('\\n')\n",
        "print(accuracy_score(test_labels, preds_optimized_mlp_macro))\n",
        "print('\\n')\n",
        "print(estimator.best_estimator_)\n",
        "print('\\n')\n",
        "print(estimator.best_params_)\n",
        "\n",
        "warnings.filterwarnings('always')"
      ],
      "execution_count": 31,
      "outputs": [
        {
          "output_type": "stream",
          "text": [
            "Συνολικός χρόνος fit και predict: 199.5155098438263 seconds\n",
            "\n",
            "\n",
            "              precision    recall  f1-score   support\n",
            "\n",
            "           0       0.96      1.00      0.98     12391\n",
            "           1       0.76      0.24      0.36       631\n",
            "\n",
            "   micro avg       0.96      0.96      0.96     13022\n",
            "   macro avg       0.86      0.62      0.67     13022\n",
            "weighted avg       0.95      0.96      0.95     13022\n",
            "\n",
            "\n",
            "\n",
            "0.959453232990324\n",
            "\n",
            "\n",
            "Pipeline(memory='tmp',\n",
            "     steps=[('imputer', SimpleImputer(copy=True, fill_value=None, missing_values=nan, strategy='mean',\n",
            "       verbose=0)), ('selector', VarianceThreshold(threshold=0)), ('scaler', StandardScaler(copy=True, with_mean=True, with_std=True)), ('pca', PCA(copy=True, iterated_power='auto', n_components=57, ran...=True, solver='adam', tol=0.0001,\n",
            "       validation_fraction=0.1, verbose=False, warm_start=False))])\n",
            "\n",
            "\n",
            "{'mlp__activation': 'relu', 'mlp__alpha': 9e-05, 'mlp__hidden_layer_sizes': (40,), 'mlp__learning_rate': 'adaptive', 'mlp__max_iter': 2000, 'mlp__solver': 'adam', 'pca__n_components': 57, 'selector__threshold': 0}\n"
          ],
          "name": "stdout"
        }
      ]
    },
    {
      "metadata": {
        "id": "ilk92nEYkfon",
        "colab_type": "code",
        "outputId": "e897654c-a32e-49f9-e986-59401aebe9d3",
        "colab": {
          "base_uri": "https://localhost:8080/",
          "height": 445
        }
      },
      "cell_type": "code",
      "source": [
        "from sklearn.neural_network import MLPClassifier\n",
        "\n",
        "MLP = MLPClassifier()\n",
        "\n",
        "hidden_layer_sizes = [ (40,)]\n",
        "# activation = ['identity', 'logistic', 'tanh', 'relu']\n",
        "activation = ['relu']\n",
        "solver = ['adam'] #Aπό το documentation προτιμούμε adam λόγο μεγένθους set\n",
        "max_iter = [  2000]\n",
        "# learning_rate = ['constant', 'invscaling', 'adaptive']\n",
        "learning_rate = [  'adaptive']\n",
        "\n",
        "alpha = [0.00009]\n",
        "\n",
        "\n",
        "\n",
        "vthreshold = [0] #προσαρμόζουμε τις τιμές μας στο variance που παρατηρήσαμε\n",
        "n_components = [ 57]\n",
        "\n",
        "\n",
        "# αρχικοποιούμε τους εκτιμητές (μετασχηματιστές και ταξινομητή) χωρείς παραμέτρους\n",
        "imp = SimpleImputer(missing_values=np.nan, strategy='mean')\n",
        "selector = VarianceThreshold()\n",
        "scaler = StandardScaler()\n",
        "ros = RandomOverSampler()\n",
        "pca = PCA()\n",
        "\n",
        "pipe = Pipeline(steps=[('imputer', imp), ('selector', selector), ('scaler', scaler), ('pca', pca),('sampler', ros), ('mlp', MLP)], memory='tmp')\n",
        "estimator = GridSearchCV(pipe, dict(selector__threshold=vthreshold, pca__n_components=n_components, mlp__hidden_layer_sizes=hidden_layer_sizes, mlp__activation=activation,\n",
        "                                    mlp__solver=solver, mlp__max_iter=max_iter, mlp__learning_rate=learning_rate, mlp__alpha=alpha), cv=5, scoring='f1_macro', n_jobs=-1)\n",
        "\n",
        "warnings.filterwarnings('ignore')\n",
        "\n",
        "start_time = time.time()\n",
        "estimator.fit(train, train_labels)\n",
        "preds_optimized_mlp_macro = estimator.predict(test)\n",
        "\n",
        "print(\"Συνολικός χρόνος fit και predict: %s seconds\" % (time.time() - start_time))\n",
        "print('\\n')\n",
        "print(classification_report(test_labels, preds_optimized_mlp_macro))\n",
        "print('\\n')\n",
        "print(accuracy_score(test_labels, preds_optimized_mlp_macro))\n",
        "print('\\n')\n",
        "print(estimator.best_estimator_)\n",
        "print('\\n')\n",
        "print(estimator.best_params_)\n",
        "\n",
        "warnings.filterwarnings('always')"
      ],
      "execution_count": 0,
      "outputs": [
        {
          "output_type": "stream",
          "text": [
            "Συνολικός χρόνος fit και predict: 916.8955430984497 seconds\n",
            "\n",
            "\n",
            "              precision    recall  f1-score   support\n",
            "\n",
            "           0       0.99      0.89      0.94     12391\n",
            "           1       0.26      0.74      0.38       631\n",
            "\n",
            "   micro avg       0.89      0.89      0.89     13022\n",
            "   macro avg       0.62      0.82      0.66     13022\n",
            "weighted avg       0.95      0.89      0.91     13022\n",
            "\n",
            "\n",
            "\n",
            "0.8853478728305944\n",
            "\n",
            "\n",
            "Pipeline(memory='tmp',\n",
            "     steps=[('imputer', SimpleImputer(copy=True, fill_value=None, missing_values=nan, strategy='mean',\n",
            "       verbose=0)), ('selector', VarianceThreshold(threshold=0)), ('scaler', StandardScaler(copy=True, with_mean=True, with_std=True)), ('pca', PCA(copy=True, iterated_power='auto', n_components=57, ran...=True, solver='adam', tol=0.0001,\n",
            "       validation_fraction=0.1, verbose=False, warm_start=False))])\n",
            "\n",
            "\n",
            "{'mlp__activation': 'relu', 'mlp__alpha': 9e-05, 'mlp__hidden_layer_sizes': (40,), 'mlp__learning_rate': 'adaptive', 'mlp__max_iter': 2000, 'mlp__solver': 'adam', 'pca__n_components': 57, 'selector__threshold': 0}\n"
          ],
          "name": "stdout"
        }
      ]
    },
    {
      "metadata": {
        "id": "n_fIsED_i18V",
        "colab_type": "text"
      },
      "cell_type": "markdown",
      "source": [
        "## Micro"
      ]
    },
    {
      "metadata": {
        "id": "SguCBEXilXTM",
        "colab_type": "text"
      },
      "cell_type": "markdown",
      "source": [
        "### Dummy"
      ]
    },
    {
      "metadata": {
        "id": "05oqlRewi3tG",
        "colab_type": "code",
        "colab": {}
      },
      "cell_type": "code",
      "source": [
        "from sklearn.dummy import DummyClassifier\n",
        "\n",
        "dummy = DummyClassifier()\n",
        "\n",
        "strategies = ['uniform', 'most_frequent', 'stratified', 'constant']\n",
        "constants = [0 , 1]\n",
        "\n",
        "# αρχικοποιούμε τους εκτιμητές (μετασχηματιστές και ταξινομητή) χωρείς παραμέτρους\n",
        "imp = SimpleImputer(missing_values=np.nan, strategy='mean')\n",
        "selector = VarianceThreshold()\n",
        "scaler = StandardScaler()\n",
        "rus = RandomUnderSampler()\n",
        "pca = PCA()\n",
        "\n",
        "pipe = Pipeline(steps=[('imputer', imp), ('selector', selector), ('scaler', scaler), ('pca', pca), ('dummy', dummy)])\n",
        "estimator = GridSearchCV(pipe, dict(dummy__strategy=strategies, dummy__constant=constants), cv=5, scoring='f1_micro', n_jobs=-1)\n",
        "\n",
        "warnings.filterwarnings('ignore')\n",
        "\n",
        "start_time = time.time()\n",
        "estimator.fit(train, train_labels)\n",
        "preds_optimized_dummy_micro = estimator.predict(test)\n",
        "\n",
        "print(\"Συνολικός χρόνος fit και predict: %s seconds\" % (time.time() - start_time))\n",
        "print('\\n')\n",
        "print(classification_report(test_labels, preds_optimized_dummy_micro))\n",
        "print('\\n')\n",
        "print(accuracy_score(test_labels, preds_optimized_dummy_micro))\n",
        "print('\\n')\n",
        "print(estimator.best_estimator_)\n",
        "print('\\n')\n",
        "print(estimator.best_params_)\n",
        "\n",
        "warnings.filterwarnings('always')"
      ],
      "execution_count": 0,
      "outputs": []
    },
    {
      "metadata": {
        "id": "HPgniX44ljaz",
        "colab_type": "text"
      },
      "cell_type": "markdown",
      "source": [
        "### KNeighborsClassifier"
      ]
    },
    {
      "metadata": {
        "id": "ZBy5XEszlkIm",
        "colab_type": "code",
        "colab": {}
      },
      "cell_type": "code",
      "source": [
        "from sklearn.neighbors import KNeighborsClassifier\n",
        "\n",
        "kNN = KNeighborsClassifier(n_jobs=-1)\n",
        "\n",
        "vthreshold = [0, 1] #προσαρμόζουμε τις τιμές μας στο variance που παρατηρήσαμε\n",
        "n_components = [ 57, 59, None]\n",
        "#αρχικα το Κ ήταν 1, 11 και 21\n",
        "k = [39, 41, 43] # η υπερπαράμετρος του ταξινομητή\n",
        "weights = ['uniform', 'distance']\n",
        "metric = ['euclidean', 'manhattan', 'minkowski']\n",
        "\n",
        "# αρχικοποιούμε τους εκτιμητές (μετασχηματιστές και ταξινομητή) χωρείς παραμέτρους\n",
        "imp = SimpleImputer(missing_values=np.nan, strategy='mean')\n",
        "selector = VarianceThreshold()\n",
        "scaler = StandardScaler()\n",
        "rus = RandomUnderSampler()\n",
        "pca = PCA()\n",
        "\n",
        "pipe = Pipeline(steps=[('imputer', imp), ('selector', selector), ('scaler', scaler), ('sampler', rus), ('pca', pca), ('kNN', kNN)], memory='tmp')\n",
        "estimator = GridSearchCV(pipe, dict(selector__threshold=vthreshold, pca__n_components=n_components, kNN__weights=weights, kNN__metric=metric, kNN__n_neighbors=k), cv=5, scoring='f1_micro', n_jobs=-1)\n",
        "\n",
        "warnings.filterwarnings('ignore')\n",
        "\n",
        "start_time = time.time()\n",
        "estimator.fit(train, train_labels)\n",
        "preds_optimized_knn_micro = estimator.predict(test)\n",
        "\n",
        "print(\"Συνολικός χρόνος fit και predict: %s seconds\" % (time.time() - start_time))\n",
        "print('\\n')\n",
        "print(classification_report(test_labels, preds_optimized_knn_micro))\n",
        "print('\\n')\n",
        "print(accuracy_score(test_labels, preds_optimized_knn_micro))\n",
        "print('\\n')\n",
        "print(estimator.best_estimator_)\n",
        "print('\\n')\n",
        "print(estimator.best_params_)\n",
        "\n",
        "warnings.filterwarnings('always')"
      ],
      "execution_count": 0,
      "outputs": []
    },
    {
      "metadata": {
        "id": "A2cE58nayMyr",
        "colab_type": "code",
        "colab": {}
      },
      "cell_type": "code",
      "source": [
        "from sklearn.neighbors import KNeighborsClassifier\n",
        "\n",
        "kNN = KNeighborsClassifier(n_jobs=-1)\n",
        "\n",
        "vthreshold = [ 1] #προσαρμόζουμε τις τιμές μας στο variance που παρατηρήσαμε\n",
        "n_components = [ 59]\n",
        "#αρχικα το Κ ήταν 1, 11 και 21\n",
        "k = [  41] # η υπερπαράμετρος του ταξινομητή\n",
        "#weights = ['uniform', 'distance']\n",
        "weights = ['distance']\n",
        "#metric = ['euclidean', 'manhattan', 'minkowski']\n",
        "metric = [ 'manhattan']\n",
        "\n",
        "# αρχικοποιούμε τους εκτιμητές (μετασχηματιστές και ταξινομητή) χωρείς παραμέτρους\n",
        "imp = SimpleImputer(missing_values=np.nan, strategy='mean')\n",
        "selector = VarianceThreshold(threshold=1)\n",
        "scaler = StandardScaler()\n",
        "pca = PCA(n_components=59)\n",
        "\n",
        "pipe = Pipeline(steps=[('imputer', imp), ('selector', selector), ('scaler', scaler), ('pca', pca), ('kNN', kNN)], memory='tmp')\n",
        "estimator = GridSearchCV(pipe, dict(selector__threshold=vthreshold, pca__n_components=n_components, kNN__weights=weights, kNN__metric=metric, kNN__n_neighbors=k), cv=5, scoring='f1_micro', n_jobs=-1)\n",
        "\n",
        "warnings.filterwarnings('ignore')\n",
        "\n",
        "start_time = time.time()\n",
        "estimator.fit(train, train_labels)\n",
        "preds_optimized_knn_micro = estimator.predict(test)\n",
        "\n",
        "print(\"Συνολικός χρόνος fit και predict: %s seconds\" % (time.time() - start_time))\n",
        "print('\\n')\n",
        "print(classification_report(test_labels, preds_optimized_knn_micro))\n",
        "print('\\n')\n",
        "print(accuracy_score(test_labels, preds_optimized_knn_micro))\n",
        "print('\\n')\n",
        "print(estimator.best_estimator_)\n",
        "print('\\n')\n",
        "print(estimator.best_params_)\n",
        "\n",
        "warnings.filterwarnings('always')"
      ],
      "execution_count": 0,
      "outputs": []
    },
    {
      "metadata": {
        "id": "vbAD1MawlkcH",
        "colab_type": "text"
      },
      "cell_type": "markdown",
      "source": [
        "### Gaussian Naive Bayes"
      ]
    },
    {
      "metadata": {
        "id": "FStsBcZclkpS",
        "colab_type": "code",
        "outputId": "910227bc-98c2-434a-e9e9-42cf87868472",
        "colab": {
          "base_uri": "https://localhost:8080/",
          "height": 428
        }
      },
      "cell_type": "code",
      "source": [
        "from sklearn.naive_bayes import GaussianNB\n",
        "\n",
        "gNB = GaussianNB()\n",
        "\n",
        "vthreshold = [0, 0.6, 1] #προσαρμόζουμε τις τιμές μας στο variance που παρατηρήσαμε\n",
        "n_components = [ 55, 57, 59, None]\n",
        "\n",
        "\n",
        "\n",
        "# αρχικοποιούμε τους εκτιμητές (μετασχηματιστές και ταξινομητή) χωρείς παραμέτρους\n",
        "imp = SimpleImputer(missing_values=np.nan, strategy='mean')\n",
        "selector = VarianceThreshold()\n",
        "scaler = StandardScaler()\n",
        "rus = RandomUnderSampler()\n",
        "pca = PCA()\n",
        "\n",
        "pipe = Pipeline(steps=[('imputer', imp), ('selector', selector), ('scaler', scaler), ('sampler', rus), ('pca', pca), ('gnb', gNB)], memory='tmp')\n",
        "estimator = GridSearchCV(pipe, dict(selector__threshold=vthreshold, pca__n_components=n_components), cv=5, scoring='f1_micro', n_jobs=-1)\n",
        "\n",
        "warnings.filterwarnings('ignore')\n",
        "\n",
        "start_time = time.time()\n",
        "estimator.fit(train, train_labels)\n",
        "preds_optimized_gnb_micro = estimator.predict(test)\n",
        "\n",
        "print(\"Συνολικός χρόνος fit και predict: %s seconds\" % (time.time() - start_time))\n",
        "print('\\n')\n",
        "print(classification_report(test_labels, preds_optimized_gnb_micro))\n",
        "print('\\n')\n",
        "print(accuracy_score(test_labels, preds_optimized_gnb_micro))\n",
        "print('\\n')\n",
        "print(estimator.best_estimator_)\n",
        "print('\\n')\n",
        "print(estimator.best_params_)\n",
        "\n",
        "warnings.filterwarnings('always')"
      ],
      "execution_count": 0,
      "outputs": [
        {
          "output_type": "stream",
          "text": [
            "Συνολικός χρόνος fit και predict: 4.526051998138428 seconds\n",
            "\n",
            "\n",
            "              precision    recall  f1-score   support\n",
            "\n",
            "           0       0.95      0.98      0.96     12407\n",
            "           1       0.07      0.04      0.05       615\n",
            "\n",
            "   micro avg       0.93      0.93      0.93     13022\n",
            "   macro avg       0.51      0.51      0.51     13022\n",
            "weighted avg       0.91      0.93      0.92     13022\n",
            "\n",
            "\n",
            "\n",
            "0.9309629857164798\n",
            "\n",
            "\n",
            "Pipeline(memory='tmp',\n",
            "     steps=[('imputer', SimpleImputer(copy=True, fill_value=None, missing_values=nan, strategy='mean',\n",
            "       verbose=0)), ('selector', VarianceThreshold(threshold=0)), ('scaler', StandardScaler(copy=True, with_mean=True, with_std=True)), ('sampler', RandomUnderSampler(random_state=None, ratio=None, repl...  svd_solver='auto', tol=0.0, whiten=False)), ('gnb', GaussianNB(priors=None, var_smoothing=1e-09))])\n",
            "\n",
            "\n",
            "{'pca__n_components': 18, 'selector__threshold': 0}\n"
          ],
          "name": "stdout"
        }
      ]
    },
    {
      "metadata": {
        "id": "WOMPmJ5-yaxv",
        "colab_type": "code",
        "colab": {}
      },
      "cell_type": "code",
      "source": [
        "# from sklearn.naive_bayes import GaussianNB\n",
        "\n",
        "# gNB = GaussianNB()\n",
        "\n",
        "# vthreshold = [1] #προσαρμόζουμε τις τιμές μας στο variance που παρατηρήσαμε\n",
        "# n_components = [ 57]\n",
        "\n",
        "# # αρχικοποιούμε τους εκτιμητές (μετασχηματιστές και ταξινομητή) χωρείς παραμέτρους\n",
        "# imp = SimpleImputer(missing_values=np.nan, strategy='mean')\n",
        "# selector = VarianceThreshold()\n",
        "# scaler = StandardScaler()\n",
        "# rus = RandomUnderSampler()\n",
        "# pca = PCA()\n",
        "\n",
        "# pipe = Pipeline(steps=[('imputer', imp), ('selector', selector), ('scaler', scaler),  ('pca', pca), ('gnb', gNB)], memory='tmp')\n",
        "# estimator = GridSearchCV(pipe, dict(selector__threshold=vthreshold, pca__n_components=n_components), cv=5, scoring='f1_micro', n_jobs=-1)\n",
        "\n",
        "# warnings.filterwarnings('ignore')\n",
        "\n",
        "# start_time = time.time()\n",
        "# estimator.fit(train, train_labels)\n",
        "# preds_optimized_gnb = estimator.predict(test)\n",
        "\n",
        "# print(\"Συνολικός χρόνος fit και predict: %s seconds\" % (time.time() - start_time))\n",
        "# print('\\n')\n",
        "# print(classification_report(test_labels, preds_optimized_gnb))\n",
        "# print('\\n')\n",
        "# print(accuracy_score(test_labels, preds_optimized_gnb))\n",
        "# print('\\n')\n",
        "# print(estimator.best_estimator_)\n",
        "# print('\\n')\n",
        "# print(estimator.best_params_)\n",
        "\n",
        "# warnings.filterwarnings('always')"
      ],
      "execution_count": 0,
      "outputs": []
    },
    {
      "metadata": {
        "id": "LHtqwDDGlk3N",
        "colab_type": "text"
      },
      "cell_type": "markdown",
      "source": [
        "### MLP"
      ]
    },
    {
      "metadata": {
        "id": "6cIVhyLOlh3D",
        "colab_type": "code",
        "outputId": "dccd8362-4de1-4000-d630-e5e41a1b7650",
        "colab": {
          "base_uri": "https://localhost:8080/",
          "height": 445
        }
      },
      "cell_type": "code",
      "source": [
        "from sklearn.neural_network import MLPClassifier\n",
        "\n",
        "MLP = MLPClassifier()\n",
        "\n",
        "hidden_layer_sizes = [ (30,) , (40,), (50,)]\n",
        "activation = [ 'logistic', 'relu'] # tanh περιπου ίδια με sigmoid αλλά έχει μεγαλύτερη κλίση συνεπώς είναι πιο αργή και υπάρχει κίνδυνος μηδενισμού της παραγώγου.\n",
        "#                                    ο κίνδυνος αυτός είναι μικρότερος με τη logistic\n",
        "#                                   έχουμε βάλει 2 μια γραμμική και μια μη γραμμική, ώστε να λάβουμε και τις 2 περιπτώσεις κατά νου\n",
        "#activation = ['relu']\n",
        "solver = ['adam'] #Aπό το documentation προτιμούμε adam λόγο μεγένθους set\n",
        "max_iter = [ 2000, 3000]\n",
        "learning_rate = [ 'adaptive']  # επειδή το προηγούμενο έβγαλε το adaptive υποθέτουμε οτι και εδώ θα κρατήσει αυτό\n",
        "#learning_rate = [  'invscaling'] αποκλείσαμε το invscaling γιατί το adaptive περιέχει χαρακτηριστικά και των 2\n",
        "#                                      επίσης το invscaling είναι πολύ αργό\n",
        "alpha = [0.0001,0.00001]\n",
        "\n",
        "\n",
        "\n",
        "vthreshold = [0, 0.5] #προσαρμόζουμε τις τιμές μας στο variance που παρατηρήσαμε\n",
        "n_components = [ 57, 59, None]\n",
        "\n",
        "\n",
        "# αρχικοποιούμε τους εκτιμητές (μετασχηματιστές και ταξινομητή) χωρείς παραμέτρους\n",
        "imp = SimpleImputer(missing_values=np.nan, strategy='mean')\n",
        "selector = VarianceThreshold()\n",
        "scaler = StandardScaler()\n",
        "rus = RandomUnderSampler()\n",
        "pca = PCA()\n",
        "\n",
        "pipe = Pipeline(steps=[('imputer', imp), ('selector', selector), ('scaler', scaler), ('sampler', rus), ('pca', pca), ('mlp', MLP)], memory='tmp')\n",
        "estimator = GridSearchCV(pipe, dict(selector__threshold=vthreshold, pca__n_components=n_components, mlp__hidden_layer_sizes=hidden_layer_sizes, mlp__activation=activation,\n",
        "                                    mlp__solver=solver, mlp__max_iter=max_iter, mlp__learning_rate=learning_rate, mlp__alpha=alpha), cv=5, scoring='f1_micro', n_jobs=-1)\n",
        "\n",
        "warnings.filterwarnings('ignore')\n",
        "\n",
        "start_time = time.time()\n",
        "estimator.fit(train, train_labels)\n",
        "preds_optimized_mlp_micro = estimator.predict(test)\n",
        "\n",
        "print(\"Συνολικός χρόνος fit και predict: %s seconds\" % (time.time() - start_time))\n",
        "print('\\n')\n",
        "print(classification_report(test_labels, preds_optimized_mlp_micro))\n",
        "print('\\n')\n",
        "print(accuracy_score(test_labels, preds_optimized_mlp_micro))\n",
        "print('\\n')\n",
        "print(estimator.best_estimator_)\n",
        "print('\\n')\n",
        "print(estimator.best_params_)\n",
        "\n",
        "warnings.filterwarnings('always')"
      ],
      "execution_count": 0,
      "outputs": [
        {
          "output_type": "stream",
          "text": [
            "Συνολικός χρόνος fit και predict: 5154.448604345322 seconds\n",
            "\n",
            "\n",
            "              precision    recall  f1-score   support\n",
            "\n",
            "           0       0.98      0.70      0.81     12410\n",
            "           1       0.10      0.64      0.17       612\n",
            "\n",
            "   micro avg       0.70      0.70      0.70     13022\n",
            "   macro avg       0.54      0.67      0.49     13022\n",
            "weighted avg       0.93      0.70      0.78     13022\n",
            "\n",
            "\n",
            "\n",
            "0.6971279373368147\n",
            "\n",
            "\n",
            "Pipeline(memory='tmp',\n",
            "     steps=[('imputer', SimpleImputer(copy=True, fill_value=None, missing_values=nan, strategy='mean',\n",
            "       verbose=0)), ('selector', VarianceThreshold(threshold=1)), ('scaler', StandardScaler(copy=True, with_mean=True, with_std=True)), ('sampler', RandomUnderSampler(random_state=None, ratio=None, repl...=True, solver='adam', tol=0.0001,\n",
            "       validation_fraction=0.1, verbose=False, warm_start=False))])\n",
            "\n",
            "\n",
            "{'mlp__activation': 'relu', 'mlp__alpha': 0.0001, 'mlp__hidden_layer_sizes': (10,), 'mlp__learning_rate': 'adaptive', 'mlp__max_iter': 30, 'mlp__solver': 'adam', 'pca__n_components': 18, 'selector__threshold': 1}\n"
          ],
          "name": "stdout"
        }
      ]
    },
    {
      "metadata": {
        "id": "GcP45akByilz",
        "colab_type": "code",
        "colab": {}
      },
      "cell_type": "code",
      "source": [
        "from sklearn.neural_network import MLPClassifier\n",
        "\n",
        "MLP = MLPClassifier()\n",
        "\n",
        "hidden_layer_sizes = (40,)\n",
        "# activation = ['identity', 'logistic', 'tanh', 'relu']\n",
        "activation = 'relu'\n",
        "solver = 'adam' #Aπό το documentation προτιμούμε adam λόγο μεγένθους set\n",
        "max_iter =   2000\n",
        "# learning_rate = ['constant', 'invscaling', 'adaptive']\n",
        "learning_rate =  'adaptive'\n",
        "\n",
        "alpha = 0.00009\n",
        "\n",
        "\n",
        "\n",
        "vthreshold = [0] #προσαρμόζουμε τις τιμές μας στο variance που παρατηρήσαμε\n",
        "n_components = [ 57]\n",
        "\n",
        "\n",
        "# αρχικοποιούμε τους εκτιμητές (μετασχηματιστές και ταξινομητή) χωρείς παραμέτρους\n",
        "imp = SimpleImputer(missing_values=np.nan, strategy='mean')\n",
        "selector = VarianceThreshold()\n",
        "scaler = StandardScaler()\n",
        "rus = RandomUnderSampler()\n",
        "pca = PCA()\n",
        "\n",
        "\n",
        "pipe = Pipeline(steps=[('imputer', imp), ('selector', selector), ('scaler', scaler), ('pca', pca), ('mlp', MLP)], memory='tmp')\n",
        "estimator = GridSearchCV(pipe, dict(selector__threshold=vthreshold, pca__n_components=n_components, mlp__hidden_layer_sizes=hidden_layer_sizes, mlp__activation=activation,\n",
        "                                    mlp__solver=solver, mlp__max_iter=max_iter, mlp__learning_rate=learning_rate, mlp__alpha=alpha), cv=5, scoring='f1_macro', n_jobs=-1)\n",
        "\n",
        "warnings.filterwarnings('ignore')\n",
        "\n",
        "start_time = time.time()\n",
        "estimator.fit(train, train_labels)\n",
        "preds_optimized_mlp_micro = estimator.predict(test)\n",
        "\n",
        "print(\"Συνολικός χρόνος fit και predict: %s seconds\" % (time.time() - start_time))\n",
        "print('\\n')\n",
        "print(classification_report(test_labels, preds_optimized_mlp_micro))\n",
        "print('\\n')\n",
        "print(accuracy_score(test_labels, preds_optimized_mlp_micro))\n",
        "print('\\n')\n",
        "print(estimator.best_estimator_)\n",
        "print('\\n')\n",
        "print(estimator.best_params_)\n",
        "\n",
        "warnings.filterwarnings('always')"
      ],
      "execution_count": 0,
      "outputs": []
    },
    {
      "metadata": {
        "id": "wTxZ-svQmde9",
        "colab_type": "text"
      },
      "cell_type": "markdown",
      "source": [
        "## Results"
      ]
    },
    {
      "metadata": {
        "id": "i2D_KJZv_R7p",
        "colab_type": "code",
        "colab": {}
      },
      "cell_type": "code",
      "source": [
        "classifiers_optimized = ['dummy', 'kNN', 'GaussianNB', 'MLP']"
      ],
      "execution_count": 0,
      "outputs": []
    },
    {
      "metadata": {
        "id": "fB0Vs-DtF0Jb",
        "colab_type": "code",
        "outputId": "669c9260-249f-4b63-aef0-cc7103837eb8",
        "colab": {
          "base_uri": "https://localhost:8080/",
          "height": 51
        }
      },
      "cell_type": "code",
      "source": [
        "warnings.filterwarnings('ignore')\n",
        "\n",
        "f1_micro_score = np.zeros((4))\n",
        "f1_micro_score[0] = classification_report(test_labels, preds_most_frequent, output_dict=True).get('micro avg').get('f1-score')\n",
        "f1_micro_score[1] = classification_report(test_labels, preds_knn_micro, output_dict=True).get('micro avg').get('f1-score')\n",
        "f1_micro_score[2] = classification_report(test_labels, preds_gnb_micro, output_dict=True).get('micro avg').get('f1-score')\n",
        "f1_micro_score[3] = classification_report(test_labels, preds_mlp_micro, output_dict=True).get('micro avg').get('f1-score')\n",
        "\n",
        "f1_macro_score = np.zeros((4))\n",
        "f1_macro_score[0] = classification_report(test_labels, preds_most_frequent, output_dict=True).get('macro avg').get('f1-score')\n",
        "f1_macro_score[1] = classification_report(test_labels, preds_knn_micro, output_dict=True).get('macro avg').get('f1-score')\n",
        "f1_macro_score[2] = classification_report(test_labels, preds_gnb_micro, output_dict=True).get('macro avg').get('f1-score')\n",
        "f1_macro_score[3] = classification_report(test_labels, preds_mlp_micro, output_dict=True).get('macro avg').get('f1-score')\n",
        "\n",
        "\n",
        "f1_micro_score_optimized = np.zeros((4))\n",
        "f1_micro_score_optimized[0] = classification_report(test_labels, preds_optimized_dummy_micro, output_dict=True).get('micro avg').get('f1-score')\n",
        "f1_micro_score_optimized[1] = classification_report(test_labels, preds_optimized_knn_micro, output_dict=True).get('micro avg').get('f1-score')\n",
        "f1_micro_score_optimized[2] = classification_report(test_labels, preds_optimized_gnb_micro, output_dict=True).get('micro avg').get('f1-score')\n",
        "f1_micro_score_optimized[3] = classification_report(test_labels, preds_optimized_mlp_micro, output_dict=True).get('micro avg').get('f1-score')\n",
        "\n",
        "warnings.filterwarnings('always')\n",
        "\n",
        "print(f1_micro_score_optimized)\n",
        "\n",
        "\n",
        "warnings.filterwarnings('ignore')\n",
        "\n",
        "f1_macro_score_optimized = np.zeros((4))\n",
        "f1_macro_score_optimized[0] = classification_report(test_labels, preds_optimized_dummy_macro, output_dict=True).get('macro avg').get('f1-score')\n",
        "f1_macro_score_optimized[1] = classification_report(test_labels, preds_optimized_knn_macro, output_dict=True).get('macro avg').get('f1-score')\n",
        "f1_macro_score_optimized[2] = classification_report(test_labels, preds_optimized_gnb_macro, output_dict=True).get('macro avg').get('f1-score')\n",
        "f1_macro_score_optimized[3] = classification_report(test_labels, preds_optimized_mlp_macro, output_dict=True).get('macro avg').get('f1-score')\n",
        "\n",
        "\n",
        "warnings.filterwarnings('always')\n",
        "\n",
        "print(f1_macro_score_optimized)"
      ],
      "execution_count": 0,
      "outputs": [
        {
          "output_type": "stream",
          "text": [
            "[0.95277223 0.72277684 0.93096299 0.71379204]\n",
            "[0.48790751 0.52219788 0.50711953 0.48464706]\n"
          ],
          "name": "stdout"
        }
      ]
    },
    {
      "metadata": {
        "id": "jAOSfWnA_BeI",
        "colab_type": "code",
        "outputId": "d33aab56-7a86-413e-92c8-d20e43bb907d",
        "colab": {
          "base_uri": "https://localhost:8080/",
          "height": 1160
        }
      },
      "cell_type": "code",
      "source": [
        "import numpy as np\n",
        "import matplotlib.pyplot as plt\n",
        " \n",
        "# data to plot\n",
        "n_groups = 4\n",
        "not_opt_micro = f1_micro_score\n",
        "opt_micro = f1_micro_score_optimized\n",
        "not_opt_macro = f1_micro_score\n",
        "opt_macro = f1_micro_score_optimized\n",
        " \n",
        "# create plot\n",
        "fig, ax = plt.subplots()\n",
        "index = np.arange(n_groups)\n",
        "bar_width = 0.15\n",
        "opacity = 0.8\n",
        " \n",
        "rects1 = plt.bar(index, not_opt_micro, bar_width,\n",
        "                 alpha=opacity,\n",
        "                 color='b',\n",
        "                 label='Not Optimized Micro')\n",
        " \n",
        "rects2 = plt.bar(index + bar_width, opt_micro, bar_width,\n",
        "                 alpha=opacity,\n",
        "                 color='g',\n",
        "                 label='Optimized Micro')\n",
        "\n",
        "rects3 = plt.bar(index + 2*bar_width, not_opt_macro, bar_width,\n",
        "                 alpha=opacity,\n",
        "                 color='r',\n",
        "                 label='Not Optimized Macro')\n",
        " \n",
        "rects4 = plt.bar(index + 3*bar_width, opt_macro, bar_width,\n",
        "                 alpha=opacity,\n",
        "                 color='o',\n",
        "                 label='Optimized Macro')\n",
        " \n",
        "plt.xlabel('Classifiers')\n",
        "plt.ylabel('Macro Scores')\n",
        "plt.title('Scores by person')\n",
        "plt.xticks(index + 2*bar_width, ('dummy', 'knn', 'gnb','mlp'))\n",
        "plt.legend()\n",
        " \n",
        "plt.tight_layout()\n",
        "plt.show()"
      ],
      "execution_count": 0,
      "outputs": [
        {
          "output_type": "error",
          "ename": "ValueError",
          "evalue": "ignored",
          "traceback": [
            "\u001b[0;31m---------------------------------------------------------------------------\u001b[0m",
            "\u001b[0;31mValueError\u001b[0m                                Traceback (most recent call last)",
            "\u001b[0;32m<ipython-input-36-2a2ecdc0989c>\u001b[0m in \u001b[0;36m<module>\u001b[0;34m()\u001b[0m\n\u001b[0;32m----> 1\u001b[0;31m \u001b[0mplt\u001b[0m\u001b[0;34m.\u001b[0m\u001b[0mbar\u001b[0m\u001b[0;34m(\u001b[0m\u001b[0;34m[\u001b[0m\u001b[0;36m0\u001b[0m\u001b[0;34m,\u001b[0m\u001b[0;36m1\u001b[0m\u001b[0;34m,\u001b[0m\u001b[0;36m2\u001b[0m\u001b[0;34m,\u001b[0m\u001b[0;36m3\u001b[0m\u001b[0;34m,\u001b[0m\u001b[0;36m4\u001b[0m\u001b[0;34m,\u001b[0m\u001b[0;36m5\u001b[0m\u001b[0;34m,\u001b[0m\u001b[0;36m6\u001b[0m\u001b[0;34m,\u001b[0m\u001b[0;36m7\u001b[0m\u001b[0;34m]\u001b[0m\u001b[0;34m,\u001b[0m \u001b[0mf1_micro_score_optimized\u001b[0m\u001b[0;34m)\u001b[0m\u001b[0;34m\u001b[0m\u001b[0;34m\u001b[0m\u001b[0m\n\u001b[0m\u001b[1;32m      2\u001b[0m \u001b[0mplt\u001b[0m\u001b[0;34m.\u001b[0m\u001b[0mxticks\u001b[0m\u001b[0;34m(\u001b[0m\u001b[0;34m[\u001b[0m\u001b[0;36m0\u001b[0m\u001b[0;34m,\u001b[0m\u001b[0;36m1\u001b[0m\u001b[0;34m,\u001b[0m\u001b[0;36m2\u001b[0m\u001b[0;34m,\u001b[0m\u001b[0;36m3\u001b[0m\u001b[0;34m,\u001b[0m\u001b[0;36m4\u001b[0m\u001b[0;34m,\u001b[0m\u001b[0;36m5\u001b[0m\u001b[0;34m,\u001b[0m\u001b[0;36m6\u001b[0m\u001b[0;34m,\u001b[0m\u001b[0;36m7\u001b[0m\u001b[0;34m]\u001b[0m\u001b[0;34m,\u001b[0m \u001b[0mclassifiers_optimized\u001b[0m\u001b[0;34m)\u001b[0m\u001b[0;34m\u001b[0m\u001b[0;34m\u001b[0m\u001b[0m\n\u001b[1;32m      3\u001b[0m \u001b[0mplt\u001b[0m\u001b[0;34m.\u001b[0m\u001b[0mylabel\u001b[0m\u001b[0;34m(\u001b[0m\u001b[0;34m'optimized_score'\u001b[0m\u001b[0;34m)\u001b[0m\u001b[0;34m\u001b[0m\u001b[0;34m\u001b[0m\u001b[0m\n\u001b[1;32m      4\u001b[0m \u001b[0mplt\u001b[0m\u001b[0;34m.\u001b[0m\u001b[0mxlabel\u001b[0m\u001b[0;34m(\u001b[0m\u001b[0;34m'model'\u001b[0m\u001b[0;34m)\u001b[0m\u001b[0;34m\u001b[0m\u001b[0;34m\u001b[0m\u001b[0m\n\u001b[1;32m      5\u001b[0m \u001b[0mplt\u001b[0m\u001b[0;34m.\u001b[0m\u001b[0mtitle\u001b[0m\u001b[0;34m(\u001b[0m\u001b[0;34m'micro average'\u001b[0m\u001b[0;34m)\u001b[0m\u001b[0;34m\u001b[0m\u001b[0;34m\u001b[0m\u001b[0m\n",
            "\u001b[0;32m/usr/local/lib/python3.6/dist-packages/matplotlib/pyplot.py\u001b[0m in \u001b[0;36mbar\u001b[0;34m(*args, **kwargs)\u001b[0m\n\u001b[1;32m   2646\u001b[0m \u001b[0;34m\u001b[0m\u001b[0m\n\u001b[1;32m   2647\u001b[0m \u001b[0;34m\u001b[0m\u001b[0m\n\u001b[0;32m-> 2648\u001b[0;31m \u001b[0;31m# Autogenerated by boilerplate.py.  Do not edit as changes will be lost.\u001b[0m\u001b[0;34m\u001b[0m\u001b[0;34m\u001b[0m\u001b[0;34m\u001b[0m\u001b[0m\n\u001b[0m\u001b[1;32m   2649\u001b[0m \u001b[0;34m@\u001b[0m\u001b[0mdocstring\u001b[0m\u001b[0;34m.\u001b[0m\u001b[0mcopy_dedent\u001b[0m\u001b[0;34m(\u001b[0m\u001b[0mAxes\u001b[0m\u001b[0;34m.\u001b[0m\u001b[0mhist\u001b[0m\u001b[0;34m)\u001b[0m\u001b[0;34m\u001b[0m\u001b[0;34m\u001b[0m\u001b[0m\n\u001b[1;32m   2650\u001b[0m def hist(\n",
            "\u001b[0;32m/usr/local/lib/python3.6/dist-packages/matplotlib/__init__.py\u001b[0m in \u001b[0;36minner\u001b[0;34m(ax, *args, **kwargs)\u001b[0m\n\u001b[1;32m   1715\u001b[0m         \u001b[0;31m# Check the case we know a label_namer but we can't find it the\u001b[0m\u001b[0;34m\u001b[0m\u001b[0;34m\u001b[0m\u001b[0;34m\u001b[0m\u001b[0m\n\u001b[1;32m   1716\u001b[0m         \u001b[0;31m# arg_names... Unfortunately the label_namer can be in **kwargs,\u001b[0m\u001b[0;34m\u001b[0m\u001b[0;34m\u001b[0m\u001b[0;34m\u001b[0m\u001b[0m\n\u001b[0;32m-> 1717\u001b[0;31m         \u001b[0;31m# which we can't detect here and which results in a non-set label\u001b[0m\u001b[0;34m\u001b[0m\u001b[0;34m\u001b[0m\u001b[0;34m\u001b[0m\u001b[0m\n\u001b[0m\u001b[1;32m   1718\u001b[0m         \u001b[0;31m# which might surprise the user :-(\u001b[0m\u001b[0;34m\u001b[0m\u001b[0;34m\u001b[0m\u001b[0;34m\u001b[0m\u001b[0m\n\u001b[1;32m   1719\u001b[0m         \u001b[0;32mif\u001b[0m \u001b[0mlabel_namer\u001b[0m \u001b[0;32mand\u001b[0m \u001b[0;32mnot\u001b[0m \u001b[0marg_names_at_runtime\u001b[0m \u001b[0;32mand\u001b[0m \u001b[0;32mnot\u001b[0m \u001b[0m_has_varkwargs\u001b[0m\u001b[0;34m:\u001b[0m\u001b[0;34m\u001b[0m\u001b[0;34m\u001b[0m\u001b[0m\n",
            "\u001b[0;32m/usr/local/lib/python3.6/dist-packages/matplotlib/axes/_axes.py\u001b[0m in \u001b[0;36mbar\u001b[0;34m(self, *args, **kwargs)\u001b[0m\n\u001b[1;32m   2015\u001b[0m             \u001b[0mit\u001b[0m \u001b[0;32mis\u001b[0m \u001b[0muniformly\u001b[0m \u001b[0mincreasing\u001b[0m\u001b[0;34m.\u001b[0m\u001b[0;34m\u001b[0m\u001b[0;34m\u001b[0m\u001b[0m\n\u001b[1;32m   2016\u001b[0m \u001b[0;34m\u001b[0m\u001b[0m\n\u001b[0;32m-> 2017\u001b[0;31m         \u001b[0my\u001b[0m \u001b[0;34m:\u001b[0m \u001b[0marray_like\u001b[0m\u001b[0;34m\u001b[0m\u001b[0;34m\u001b[0m\u001b[0m\n\u001b[0m\u001b[1;32m   2018\u001b[0m             \u001b[0;36m1\u001b[0m\u001b[0;34m-\u001b[0m\u001b[0mD\u001b[0m \u001b[0msequence\u001b[0m \u001b[0mof\u001b[0m \u001b[0my\u001b[0m \u001b[0mlevels\u001b[0m\u001b[0;34m.\u001b[0m\u001b[0;34m\u001b[0m\u001b[0;34m\u001b[0m\u001b[0m\n\u001b[1;32m   2019\u001b[0m \u001b[0;34m\u001b[0m\u001b[0m\n",
            "\u001b[0;32m/usr/local/lib/python3.6/dist-packages/numpy/lib/stride_tricks.py\u001b[0m in \u001b[0;36mbroadcast_arrays\u001b[0;34m(*args, **kwargs)\u001b[0m\n\u001b[1;32m    247\u001b[0m     \u001b[0;32mif\u001b[0m \u001b[0mkwargs\u001b[0m\u001b[0;34m:\u001b[0m\u001b[0;34m\u001b[0m\u001b[0;34m\u001b[0m\u001b[0m\n\u001b[1;32m    248\u001b[0m         raise TypeError('broadcast_arrays() got an unexpected keyword '\n\u001b[0;32m--> 249\u001b[0;31m                         'argument {!r}'.format(kwargs.keys()[0]))\n\u001b[0m\u001b[1;32m    250\u001b[0m     \u001b[0margs\u001b[0m \u001b[0;34m=\u001b[0m \u001b[0;34m[\u001b[0m\u001b[0mnp\u001b[0m\u001b[0;34m.\u001b[0m\u001b[0marray\u001b[0m\u001b[0;34m(\u001b[0m\u001b[0m_m\u001b[0m\u001b[0;34m,\u001b[0m \u001b[0mcopy\u001b[0m\u001b[0;34m=\u001b[0m\u001b[0;32mFalse\u001b[0m\u001b[0;34m,\u001b[0m \u001b[0msubok\u001b[0m\u001b[0;34m=\u001b[0m\u001b[0msubok\u001b[0m\u001b[0;34m)\u001b[0m \u001b[0;32mfor\u001b[0m \u001b[0m_m\u001b[0m \u001b[0;32min\u001b[0m \u001b[0margs\u001b[0m\u001b[0;34m]\u001b[0m\u001b[0;34m\u001b[0m\u001b[0;34m\u001b[0m\u001b[0m\n\u001b[1;32m    251\u001b[0m \u001b[0;34m\u001b[0m\u001b[0m\n",
            "\u001b[0;32m/usr/local/lib/python3.6/dist-packages/numpy/lib/stride_tricks.py\u001b[0m in \u001b[0;36m_broadcast_shape\u001b[0;34m(*args)\u001b[0m\n\u001b[1;32m    182\u001b[0m     \"\"\"\n\u001b[1;32m    183\u001b[0m     \u001b[0;32mif\u001b[0m \u001b[0;32mnot\u001b[0m \u001b[0margs\u001b[0m\u001b[0;34m:\u001b[0m\u001b[0;34m\u001b[0m\u001b[0;34m\u001b[0m\u001b[0m\n\u001b[0;32m--> 184\u001b[0;31m         \u001b[0;32mreturn\u001b[0m \u001b[0;34m(\u001b[0m\u001b[0;34m)\u001b[0m\u001b[0;34m\u001b[0m\u001b[0;34m\u001b[0m\u001b[0m\n\u001b[0m\u001b[1;32m    185\u001b[0m     \u001b[0;31m# use the old-iterator because np.nditer does not handle size 0 arrays\u001b[0m\u001b[0;34m\u001b[0m\u001b[0;34m\u001b[0m\u001b[0;34m\u001b[0m\u001b[0m\n\u001b[1;32m    186\u001b[0m     \u001b[0;31m# consistently\u001b[0m\u001b[0;34m\u001b[0m\u001b[0;34m\u001b[0m\u001b[0;34m\u001b[0m\u001b[0m\n",
            "\u001b[0;31mValueError\u001b[0m: shape mismatch: objects cannot be broadcast to a single shape"
          ]
        },
        {
          "output_type": "display_data",
          "data": {
            "image/png": "[encoded data removed]",
            "text/plain": [
              "<matplotlib.figure.Figure at 0x7f1697abccc0>"
            ]
          },
          "metadata": {
            "tags": []
          }
        }
      ]
    },
    {
      "metadata": {
        "id": "I0tMw-J_muwk",
        "colab_type": "code",
        "colab": {}
      },
      "cell_type": "code",
      "source": [
        ""
      ],
      "execution_count": 0,
      "outputs": []
    }
  ]
}